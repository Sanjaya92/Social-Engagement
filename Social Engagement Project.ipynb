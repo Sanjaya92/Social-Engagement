{
 "cells": [
  {
   "cell_type": "code",
   "execution_count": 66,
   "id": "72e6f44d-1c2f-4a5c-a1f4-4946e373a0da",
   "metadata": {},
   "outputs": [],
   "source": [
    "import pandas as pd\n",
    "import numpy as np\n",
    "import matplotlib.pyplot as plt \n",
    "import sqlalchemy  \n",
    "from urllib.parse import quote_plus\n",
    "import plotly.graph_objects as go"
   ]
  },
  {
   "cell_type": "code",
   "execution_count": 2,
   "id": "0a7e6ce2-0806-4d4b-b02a-b61792e702fc",
   "metadata": {},
   "outputs": [],
   "source": [
    "# IMPORT FILE .\n",
    "file_path = '/my/file/path/social_media_engagement.csv'\n",
    "social_engagement = pd.read_csv(file_path)\n",
    "social = pd.DataFrame(social_engagement)\n",
    "\n",
    "# DROP COLUMN 'Campaign ID' , 'Influencer ID' and rename 'Engagement Rate'\n",
    "social.drop(['Campaign ID' , 'Influencer ID'], axis = 1, inplace=True ) \n",
    "social.rename(columns = { ' Engagement Rate ' : 'Engagement Rate' } , inplace = True )\n",
    "\n",
    "# split date column to date and day_of_week .\n",
    "date_and_day = social['Date'].str.split('(', expand=True)\n",
    "\n",
    "social['Date'] = date_and_day[0].str.strip()\n",
    "\n",
    "social['day_of_week'] = date_and_day[1].str.strip(')')\n",
    "\n",
    "social['Date'] = pd.to_datetime(social['Date'])\n",
    "\n",
    "social.insert(6, 'day_of_week', social.pop('day_of_week'))"
   ]
  },
  {
   "cell_type": "code",
   "execution_count": 3,
   "id": "0c0f97f7-40fb-4327-a239-3aefe8f1b05c",
   "metadata": {},
   "outputs": [],
   "source": [
    "db_user = 'postgres'\n",
    "db_password = 'db_password'\n",
    "db_host = 'localhost'\n",
    "db_name = 'social_engagement'\n",
    "\n",
    "# Encode the password\n",
    "encoded_password = quote_plus(db_password)\n",
    "\n",
    "# Construct the database URL\n",
    "db_url = f'postgresql://{db_user}:{encoded_password}@{db_host}/{db_name}'\n",
    "\n",
    "engine = sqlalchemy.create_engine(db_url)\n",
    "\n",
    "# THIS FUNCTION WILL CREATE A DATABASE IN POSTGRES RDBMS \n",
    "def load_data(df, table_name, engine):\n",
    "    df.to_sql(table_name, con=engine, if_exists='replace', index=False)\n",
    "\n",
    "# create a database in postgres\n",
    "load_data(social, 'social', engine)"
   ]
  },
  {
   "cell_type": "code",
   "execution_count": 4,
   "id": "54aa49fb-6b26-4fbe-b8a3-523229c7c396",
   "metadata": {},
   "outputs": [
    {
     "data": {
      "text/html": [
       "<div>\n",
       "<style scoped>\n",
       "    .dataframe tbody tr th:only-of-type {\n",
       "        vertical-align: middle;\n",
       "    }\n",
       "\n",
       "    .dataframe tbody tr th {\n",
       "        vertical-align: top;\n",
       "    }\n",
       "\n",
       "    .dataframe thead th {\n",
       "        text-align: right;\n",
       "    }\n",
       "</style>\n",
       "<table border=\"1\" class=\"dataframe\">\n",
       "  <thead>\n",
       "    <tr style=\"text-align: right;\">\n",
       "      <th></th>\n",
       "      <th>Platform</th>\n",
       "      <th>Post ID</th>\n",
       "      <th>Post Type</th>\n",
       "      <th>Post Content</th>\n",
       "      <th>Post Timestamp</th>\n",
       "      <th>Date</th>\n",
       "      <th>day_of_week</th>\n",
       "      <th>Weekday Type</th>\n",
       "      <th>Time</th>\n",
       "      <th>Time Periods</th>\n",
       "      <th>...</th>\n",
       "      <th>Impressions</th>\n",
       "      <th>Reach</th>\n",
       "      <th>Engagement Rate</th>\n",
       "      <th>Audience Age</th>\n",
       "      <th>Age Group</th>\n",
       "      <th>Audience Gender</th>\n",
       "      <th>Audience Location</th>\n",
       "      <th>Audience Continent</th>\n",
       "      <th>Audience Interests</th>\n",
       "      <th>Sentiment</th>\n",
       "    </tr>\n",
       "  </thead>\n",
       "  <tbody>\n",
       "    <tr>\n",
       "      <th>0</th>\n",
       "      <td>Instagram</td>\n",
       "      <td>16ce29c5-2dc7-478f-9814-a86754f3ce8b</td>\n",
       "      <td>Video</td>\n",
       "      <td>Increase fast partner south.</td>\n",
       "      <td>07/30/23 06:40 AM</td>\n",
       "      <td>2023-07-30</td>\n",
       "      <td>Sunday</td>\n",
       "      <td>Weekend</td>\n",
       "      <td>6:40:06</td>\n",
       "      <td>Morning</td>\n",
       "      <td>...</td>\n",
       "      <td>3884</td>\n",
       "      <td>1223</td>\n",
       "      <td>91.41</td>\n",
       "      <td>48</td>\n",
       "      <td>Senior Adults</td>\n",
       "      <td>Male</td>\n",
       "      <td>Greece</td>\n",
       "      <td>Europe</td>\n",
       "      <td>population</td>\n",
       "      <td>Neutral</td>\n",
       "    </tr>\n",
       "    <tr>\n",
       "      <th>1</th>\n",
       "      <td>Facebook</td>\n",
       "      <td>a30c948b-0fb3-4e92-95da-e2dea184f568</td>\n",
       "      <td>Link</td>\n",
       "      <td>Floor glass bring indicate seem detail.</td>\n",
       "      <td>06/19/22 02:15 PM</td>\n",
       "      <td>2022-06-19</td>\n",
       "      <td>Sunday</td>\n",
       "      <td>Weekend</td>\n",
       "      <td>14:15:59</td>\n",
       "      <td>Afternoon</td>\n",
       "      <td>...</td>\n",
       "      <td>1831</td>\n",
       "      <td>1386</td>\n",
       "      <td>45.82</td>\n",
       "      <td>33</td>\n",
       "      <td>Mature Adults</td>\n",
       "      <td>Female</td>\n",
       "      <td>Lao People's Democratic Republic</td>\n",
       "      <td>Asia</td>\n",
       "      <td>attorney</td>\n",
       "      <td>Mixed</td>\n",
       "    </tr>\n",
       "  </tbody>\n",
       "</table>\n",
       "<p>2 rows × 23 columns</p>\n",
       "</div>"
      ],
      "text/plain": [
       "    Platform                               Post ID Post Type  \\\n",
       "0  Instagram  16ce29c5-2dc7-478f-9814-a86754f3ce8b     Video   \n",
       "1   Facebook  a30c948b-0fb3-4e92-95da-e2dea184f568      Link   \n",
       "\n",
       "                              Post Content     Post Timestamp       Date  \\\n",
       "0             Increase fast partner south.  07/30/23 06:40 AM 2023-07-30   \n",
       "1  Floor glass bring indicate seem detail.  06/19/22 02:15 PM 2022-06-19   \n",
       "\n",
       "  day_of_week Weekday Type      Time Time Periods  ...  Impressions  Reach  \\\n",
       "0      Sunday      Weekend   6:40:06      Morning  ...         3884   1223   \n",
       "1      Sunday      Weekend  14:15:59    Afternoon  ...         1831   1386   \n",
       "\n",
       "   Engagement Rate  Audience Age      Age Group  Audience Gender  \\\n",
       "0            91.41            48  Senior Adults             Male   \n",
       "1            45.82            33  Mature Adults           Female   \n",
       "\n",
       "                  Audience Location Audience Continent Audience Interests  \\\n",
       "0                            Greece             Europe         population   \n",
       "1  Lao People's Democratic Republic               Asia           attorney   \n",
       "\n",
       "  Sentiment  \n",
       "0   Neutral  \n",
       "1     Mixed  \n",
       "\n",
       "[2 rows x 23 columns]"
      ]
     },
     "execution_count": 4,
     "metadata": {},
     "output_type": "execute_result"
    }
   ],
   "source": [
    "pd.read_sql_query(\" SELECT * FROM social limit 2\", engine )"
   ]
  },
  {
   "cell_type": "code",
   "execution_count": 67,
   "id": "8b6fcedf-ffde-4233-acb9-42ac3acfe92a",
   "metadata": {},
   "outputs": [
    {
     "data": {
      "text/html": [
       "<div>\n",
       "<style scoped>\n",
       "    .dataframe tbody tr th:only-of-type {\n",
       "        vertical-align: middle;\n",
       "    }\n",
       "\n",
       "    .dataframe tbody tr th {\n",
       "        vertical-align: top;\n",
       "    }\n",
       "\n",
       "    .dataframe thead th {\n",
       "        text-align: right;\n",
       "    }\n",
       "</style>\n",
       "<table border=\"1\" class=\"dataframe\">\n",
       "  <thead>\n",
       "    <tr style=\"text-align: right;\">\n",
       "      <th></th>\n",
       "      <th>Distinct Post ID</th>\n",
       "    </tr>\n",
       "  </thead>\n",
       "  <tbody>\n",
       "    <tr>\n",
       "      <th>0</th>\n",
       "      <td>100000</td>\n",
       "    </tr>\n",
       "  </tbody>\n",
       "</table>\n",
       "</div>"
      ],
      "text/plain": [
       "   Distinct Post ID\n",
       "0            100000"
      ]
     },
     "execution_count": 67,
     "metadata": {},
     "output_type": "execute_result"
    }
   ],
   "source": [
    "pd.read_sql_query(\"\"\" SELECT COUNT (DISTINCT \"Post ID\") as \"Distinct Post ID\" from social \"\"\" , engine)"
   ]
  },
  {
   "cell_type": "markdown",
   "id": "c724d028-11e3-4a0b-a208-37fa7fd37ad4",
   "metadata": {},
   "source": [
    "&nbsp;\n",
    "&nbsp;"
   ]
  },
  {
   "cell_type": "markdown",
   "id": "16c48075-3485-4c32-a26c-573e541d778f",
   "metadata": {},
   "source": [
    "#### Engagement distribution by Platform"
   ]
  },
  {
   "cell_type": "code",
   "execution_count": 7,
   "id": "2de385fd-ab4c-4657-a91f-58db9fd6f6e9",
   "metadata": {},
   "outputs": [
    {
     "data": {
      "image/png": "[encoded data removed]",
      "text/plain": [
       "<Figure size 1000x600 with 1 Axes>"
      ]
     },
     "metadata": {},
     "output_type": "display_data"
    }
   ],
   "source": [
    "# SQL query to aggregate engagement metrics for each platform\n",
    "query = \"\"\"\n",
    "    SELECT \"Platform\", \n",
    "           SUM(\"Likes\" + \"Comments\" + \"Shares\") as \"Total Engagement\",\n",
    "           SUM(\"Likes\") as \"Total Likes\",\n",
    "           SUM(\"Comments\") as \"Total Comments\",\n",
    "           SUM(\"Shares\") as \"Total Shares\"\n",
    "    FROM social\n",
    "    GROUP BY \"Platform\"\n",
    "\"\"\"\n",
    "\n",
    "# Read data from the database using the SQL query\n",
    "df = pd.read_sql_query(query, engine)\n",
    "\n",
    "plt.figure(figsize=(10, 6))\n",
    "\n",
    "# Plot stacked bar chart for engagement metrics by platform\n",
    "likes_bar = plt.bar(df[\"Platform\"], df[\"Total Likes\"], label=\"Likes\")\n",
    "comments_bar = plt.bar(df[\"Platform\"], df[\"Total Comments\"], bottom=df[\"Total Likes\"], label=\"Comments\")\n",
    "shares_bar = plt.bar(df[\"Platform\"], df[\"Total Shares\"], bottom=df[\"Total Likes\"] + df[\"Total Comments\"], label=\"Shares\")\n",
    "\n",
    "plt.xlabel('Platform')\n",
    "plt.ylabel('Engagement')\n",
    "plt.title('Engagement Metrics by Platform')\n",
    "plt.legend(loc='upper right')\n",
    "plt.xticks(rotation=45)\n",
    "plt.tight_layout()\n",
    "plt.grid(True)\n",
    "\n",
    "# Add text labels to each bar\n",
    "for likes, comments, shares in zip(likes_bar, comments_bar, shares_bar):\n",
    "    x = likes.get_x() + likes.get_width() / 2\n",
    "    y_likes = likes.get_height()\n",
    "    y_comments = comments.get_height()\n",
    "    y_shares = shares.get_height()\n",
    "    \n",
    "    plt.text(x, y_likes, round(y_likes, 2), ha='center', va='bottom')\n",
    "    plt.text(x, y_likes + y_comments, round(y_comments, 2), ha='center', va='bottom')\n",
    "    plt.text(x, y_likes + y_comments + y_shares, round(y_shares, 2), ha='center', va='bottom')\n",
    "\n",
    "plt.show()\n"
   ]
  },
  {
   "cell_type": "markdown",
   "id": "e67492c6-83aa-46df-b497-98725f8d1d31",
   "metadata": {},
   "source": [
    "&nbsp;\n",
    "&nbsp;"
   ]
  },
  {
   "cell_type": "markdown",
   "id": "c44a1956-f270-45c1-b28c-9967f64c83ef",
   "metadata": {},
   "source": [
    "### Engagement trend over time "
   ]
  },
  {
   "cell_type": "code",
   "execution_count": 211,
   "id": "50289579-0d76-4777-8dac-25b8302b3f9c",
   "metadata": {},
   "outputs": [
    {
     "data": {
      "text/html": [
       "<div>\n",
       "<style scoped>\n",
       "    .dataframe tbody tr th:only-of-type {\n",
       "        vertical-align: middle;\n",
       "    }\n",
       "\n",
       "    .dataframe tbody tr th {\n",
       "        vertical-align: top;\n",
       "    }\n",
       "\n",
       "    .dataframe thead th {\n",
       "        text-align: right;\n",
       "    }\n",
       "</style>\n",
       "<table border=\"1\" class=\"dataframe\">\n",
       "  <thead>\n",
       "    <tr style=\"text-align: right;\">\n",
       "      <th></th>\n",
       "      <th>Year_quarter</th>\n",
       "      <th>Total Engagement</th>\n",
       "      <th>Total Impression</th>\n",
       "      <th>Total reach</th>\n",
       "    </tr>\n",
       "  </thead>\n",
       "  <tbody>\n",
       "    <tr>\n",
       "      <th>0</th>\n",
       "      <td>2021</td>\n",
       "      <td>22975973.0</td>\n",
       "      <td>156214908.0</td>\n",
       "      <td>67499232.0</td>\n",
       "    </tr>\n",
       "    <tr>\n",
       "      <th>1</th>\n",
       "      <td>2022</td>\n",
       "      <td>28210442.0</td>\n",
       "      <td>191057316.0</td>\n",
       "      <td>82473416.0</td>\n",
       "    </tr>\n",
       "    <tr>\n",
       "      <th>2</th>\n",
       "      <td>2023</td>\n",
       "      <td>28435033.0</td>\n",
       "      <td>192234264.0</td>\n",
       "      <td>83247339.0</td>\n",
       "    </tr>\n",
       "  </tbody>\n",
       "</table>\n",
       "</div>"
      ],
      "text/plain": [
       "  Year_quarter  Total Engagement  Total Impression  Total reach\n",
       "0         2021        22975973.0       156214908.0   67499232.0\n",
       "1         2022        28210442.0       191057316.0   82473416.0\n",
       "2         2023        28435033.0       192234264.0   83247339.0"
      ]
     },
     "execution_count": 211,
     "metadata": {},
     "output_type": "execute_result"
    }
   ],
   "source": [
    "pd.read_sql_query(\"\"\"\n",
    "                        select to_char(\"Date\", 'YYYY') as \"Year_quarter\" , \n",
    "\t       sum(\"Likes\"+ \"Comments\" + \"Shares\")  as \"Total Engagement\", \n",
    "            sum(\"Impressions\") as \"Total Impression\",\n",
    "\tsum(\"Reach\") as \"Total reach\"\n",
    "            from social \n",
    "\t\twhere to_char(\"Date\", 'YYYY') < '2024'\n",
    "            group by 1\n",
    "            order by 4 asc\n",
    "                        \"\"\", engine)"
   ]
  },
  {
   "cell_type": "markdown",
   "id": "286d01ed-48ef-4e59-9af9-1581cb98748e",
   "metadata": {},
   "source": [
    "&nbsp;\n",
    "&nbsp;"
   ]
  },
  {
   "cell_type": "markdown",
   "id": "a46df711-0c2a-45e8-96bd-c3fbf98502b1",
   "metadata": {},
   "source": [
    "### Empression outnumbered"
   ]
  },
  {
   "cell_type": "code",
   "execution_count": 70,
   "id": "76de0f20-13a0-4690-870a-81eb7d15a2e9",
   "metadata": {},
   "outputs": [
    {
     "data": {
      "text/html": [
       "<div>\n",
       "<style scoped>\n",
       "    .dataframe tbody tr th:only-of-type {\n",
       "        vertical-align: middle;\n",
       "    }\n",
       "\n",
       "    .dataframe tbody tr th {\n",
       "        vertical-align: top;\n",
       "    }\n",
       "\n",
       "    .dataframe thead th {\n",
       "        text-align: right;\n",
       "    }\n",
       "</style>\n",
       "<table border=\"1\" class=\"dataframe\">\n",
       "  <thead>\n",
       "    <tr style=\"text-align: right;\">\n",
       "      <th></th>\n",
       "      <th>Platform</th>\n",
       "      <th>Total Impressions</th>\n",
       "      <th>Total Reach</th>\n",
       "      <th>Empression outnumbered</th>\n",
       "    </tr>\n",
       "  </thead>\n",
       "  <tbody>\n",
       "    <tr>\n",
       "      <th>0</th>\n",
       "      <td>Twitter</td>\n",
       "      <td>144597998.0</td>\n",
       "      <td>62617016.0</td>\n",
       "      <td>81980982.0</td>\n",
       "    </tr>\n",
       "    <tr>\n",
       "      <th>1</th>\n",
       "      <td>LinkedIn</td>\n",
       "      <td>144683946.0</td>\n",
       "      <td>62281154.0</td>\n",
       "      <td>82402792.0</td>\n",
       "    </tr>\n",
       "    <tr>\n",
       "      <th>2</th>\n",
       "      <td>Facebook</td>\n",
       "      <td>143507500.0</td>\n",
       "      <td>62013527.0</td>\n",
       "      <td>81493973.0</td>\n",
       "    </tr>\n",
       "    <tr>\n",
       "      <th>3</th>\n",
       "      <td>Instagram</td>\n",
       "      <td>142477819.0</td>\n",
       "      <td>61735944.0</td>\n",
       "      <td>80741875.0</td>\n",
       "    </tr>\n",
       "  </tbody>\n",
       "</table>\n",
       "</div>"
      ],
      "text/plain": [
       "    Platform  Total Impressions  Total Reach  Empression outnumbered\n",
       "0    Twitter        144597998.0   62617016.0              81980982.0\n",
       "1   LinkedIn        144683946.0   62281154.0              82402792.0\n",
       "2   Facebook        143507500.0   62013527.0              81493973.0\n",
       "3  Instagram        142477819.0   61735944.0              80741875.0"
      ]
     },
     "execution_count": 70,
     "metadata": {},
     "output_type": "execute_result"
    }
   ],
   "source": [
    "pd.read_sql_query(\"\"\"\n",
    "                    SELECT \"Platform\" , \"Total Impressions\" , \"Total Reach\" , \"Total Impressions\" - \"Total Reach\" as \"Empression outnumbered\"\n",
    "                 from (\n",
    "                    select \"Platform\" , sum(\"Impressions\") as \"Total Impressions\" , sum(\"Reach\") as \"Total Reach\"\n",
    "                    from social \n",
    "                    group by \"Platform\") as    t\n",
    "                    order by \"Total Reach\" desc\n",
    "                    \"\"\", engine)"
   ]
  },
  {
   "cell_type": "markdown",
   "id": "7ff264f9-2f00-4414-b82e-dc4e170ed5f2",
   "metadata": {},
   "source": [
    "- **LinkedIn Effectiveness**: LinkedIn emerges as a potent platform for content distribution, particularly due to its exceptional visibility. This is evidenced by its ability to generate a substantial number of impressions relative to its reach metrics.\n",
    "\n",
    "- **Twitter's Reach Dominance**: Twitter stands out for its remarkable reach metrics, indicating that content posted on this platform reaches the largest number of unique users compared to other platforms.\n",
    "\n",
    "- **Efficiency Consideration**: With a lower \"Impression outnumbered\" value, Twitter appears to be more efficient in reaching a larger proportion of its audience compared to other platforms. This suggests that content on Twitter may have a higher engagement rate per impression.\n"
   ]
  },
  {
   "cell_type": "code",
   "execution_count": 89,
   "id": "54215e52-72fd-4c2b-88a7-3fbfc4ff5fba",
   "metadata": {},
   "outputs": [
    {
     "data": {
      "image/png": "[encoded data removed]",
      "text/plain": [
       "<Figure size 1000x800 with 1 Axes>"
      ]
     },
     "metadata": {},
     "output_type": "display_data"
    }
   ],
   "source": [
    "\n",
    "query = \"\"\"\n",
    "    SELECT \"Platform\", \n",
    "           SUM(\"Impressions\") as \"Total Impressions\", \n",
    "           SUM(\"Reach\") as \"Total Reach\", \n",
    "           (SUM(\"Impressions\") - SUM(\"Reach\")) as \"Impression Outnumbered\"\n",
    "    FROM social\n",
    "    GROUP BY \"Platform\"\n",
    "\"\"\"\n",
    "\n",
    "# Execute the query and read the results into a DataFrame\n",
    "df = pd.read_sql_query(query, engine)\n",
    "\n",
    "plt.figure(figsize=(10, 8))\n",
    "\n",
    "bar_width = 0.3\n",
    "\n",
    "# Create an array of x positions for each group of bars\n",
    "x = np.arange(len(df['Platform']))\n",
    "\n",
    "# Bar for Total Impressions\n",
    "plt.bar(x - bar_width, df['Total Impressions'], color='b', width=bar_width, label='Total Impressions')\n",
    "\n",
    "# Stacked bars for Total Reach and Impression Outnumbered\n",
    "plt.bar(x, df['Total Reach'], color='g', width=bar_width, label='Total Reach')\n",
    "plt.bar(x, df['Impression Outnumbered'], bottom=df['Total Reach'], color='y', width=bar_width, label='Impression Outnumbered')\n",
    "\n",
    "# Labels and legend\n",
    "plt.xlabel('Platform')\n",
    "plt.ylabel('Count')\n",
    "plt.title('Empression outnumbered')\n",
    "plt.xticks(x, df['Platform'], rotation=45)\n",
    "plt.legend()\n",
    "plt.grid(True)\n",
    "# Show plot\n",
    "plt.tight_layout()\n",
    "plt.show()\n"
   ]
  },
  {
   "cell_type": "markdown",
   "id": "83d03d12-b63b-42b0-9839-ca45794592d5",
   "metadata": {},
   "source": [
    "### Reason for Impressions Outnumbered\n",
    "- Indicates that the content is being displayed multiple times to the same users or to a broad audience but is not necessarily reaching a large number of unique users, leading to repeated exposures without reaching new users.\n",
    "- Content may not be reaching its intended audience or may not be capturing the attention of users effectively, resulting in wasted impressions and potentially higher advertising costs without proportional returns.\n",
    "- **Action:** By addressing these potential inefficiencies, you can enhance the effectiveness of your content campaigns, improve audience engagement, and ultimately achieve better results in terms of reach and impact.\n"
   ]
  },
  {
   "cell_type": "markdown",
   "id": "966d83d5-9e80-4f13-96b0-46081346a509",
   "metadata": {},
   "source": [
    "&nbsp;\n",
    "&nbsp;\n"
   ]
  },
  {
   "cell_type": "markdown",
   "id": "f3a44f20-109a-4531-8717-ce99794109bd",
   "metadata": {},
   "source": [
    "#### Analysis of Engagement, Reach, and Impressions by Post Type"
   ]
  },
  {
   "cell_type": "code",
   "execution_count": 236,
   "id": "944379d1-0af6-42bd-b8bd-cded946d85a0",
   "metadata": {},
   "outputs": [
    {
     "data": {
      "text/html": [
       "<div>\n",
       "<style scoped>\n",
       "    .dataframe tbody tr th:only-of-type {\n",
       "        vertical-align: middle;\n",
       "    }\n",
       "\n",
       "    .dataframe tbody tr th {\n",
       "        vertical-align: top;\n",
       "    }\n",
       "\n",
       "    .dataframe thead th {\n",
       "        text-align: right;\n",
       "    }\n",
       "</style>\n",
       "<table border=\"1\" class=\"dataframe\">\n",
       "  <thead>\n",
       "    <tr style=\"text-align: right;\">\n",
       "      <th></th>\n",
       "      <th>Post Type</th>\n",
       "      <th>Total Impressions</th>\n",
       "      <th>Total Engagement</th>\n",
       "      <th>Total Reach</th>\n",
       "    </tr>\n",
       "  </thead>\n",
       "  <tbody>\n",
       "    <tr>\n",
       "      <th>0</th>\n",
       "      <td>Video</td>\n",
       "      <td>192401531.0</td>\n",
       "      <td>28388809.0</td>\n",
       "      <td>83052530.0</td>\n",
       "    </tr>\n",
       "    <tr>\n",
       "      <th>1</th>\n",
       "      <td>Link</td>\n",
       "      <td>192029230.0</td>\n",
       "      <td>28326405.0</td>\n",
       "      <td>82957410.0</td>\n",
       "    </tr>\n",
       "    <tr>\n",
       "      <th>2</th>\n",
       "      <td>Image</td>\n",
       "      <td>190836502.0</td>\n",
       "      <td>28206181.0</td>\n",
       "      <td>82637701.0</td>\n",
       "    </tr>\n",
       "  </tbody>\n",
       "</table>\n",
       "</div>"
      ],
      "text/plain": [
       "  Post Type  Total Impressions  Total Engagement  Total Reach\n",
       "0     Video        192401531.0        28388809.0   83052530.0\n",
       "1      Link        192029230.0        28326405.0   82957410.0\n",
       "2     Image        190836502.0        28206181.0   82637701.0"
      ]
     },
     "execution_count": 236,
     "metadata": {},
     "output_type": "execute_result"
    }
   ],
   "source": [
    "pd.read_sql_query(\"\"\"\n",
    "                SELECT \"Post Type\", sum(\"Impressions\") as \"Total Impressions\", sum(\"Likes\" + \"Comments\" + \"Shares\") as \"Total Engagement\" ,\n",
    "                 sum(\"Reach\") as \"Total Reach\"\n",
    "                from social\n",
    "                group by \"Post Type\"\n",
    "                order by 2 desc\n",
    "                  \"\"\" , engine)"
   ]
  },
  {
   "cell_type": "markdown",
   "id": "a96b6de2-2c46-46ab-8041-1f564b590b0b",
   "metadata": {},
   "source": [
    "&nbsp;\n",
    "&nbsp;\n"
   ]
  },
  {
   "cell_type": "code",
   "execution_count": 91,
   "id": "d54e6249-7e09-4f80-8828-feb88fba495d",
   "metadata": {},
   "outputs": [
    {
     "name": "stdout",
     "output_type": "stream",
     "text": [
      "[0 1 2]\n"
     ]
    },
    {
     "data": {
      "image/png": "[encoded data removed]",
      "text/plain": [
       "<Figure size 640x480 with 1 Axes>"
      ]
     },
     "metadata": {},
     "output_type": "display_data"
    }
   ],
   "source": [
    "query = \"\"\"\n",
    "                SELECT \"Post Type\",  sum(\"Impressions\") as \"Total Impressions\", sum(\"Likes\" + \"Comments\" + \"Shares\") as \"Total Engagement\" ,\n",
    "                 sum(\"Reach\") as \"Total Reach\"\n",
    "                from social\n",
    "                group by \"Post Type\"\n",
    "                  \"\"\"\n",
    "\n",
    "df =pd.read_sql_query(query, engine)\n",
    "bar_width = 0.2\n",
    "x = np.arange(len(df['Post Type']))\n",
    "print(x)\n",
    "\n",
    "plt.bar(x- bar_width , df['Total Engagement'] , width = bar_width , color = 'g' , label = 'Total Engagement' )\n",
    "\n",
    "plt.bar(x , df['Total Reach'] , width = bar_width , color = 'r' , label = 'Total Reach' )\n",
    "plt.bar(x + bar_width , df['Total Impressions'] , width = bar_width , color = 'b' , label = 'Total Impressions' )\n",
    "\n",
    "plt.xlabel('Post Type')\n",
    "plt.ylabel('Count')\n",
    "plt.title('Engagement, Reach, and Impressions by Post Type')\n",
    "plt.xticks(x, df['Post Type'], rotation=45)\n",
    "plt.legend()\n",
    "    \n",
    "# Show plot\n",
    "plt.tight_layout()\n",
    "plt.show()"
   ]
  },
  {
   "cell_type": "markdown",
   "id": "238686eb-5fed-49b7-8465-2c90e3005c55",
   "metadata": {},
   "source": [
    "#### The \"Video\" post type has the highest total impressions, engagement, and reach among the three types."
   ]
  },
  {
   "cell_type": "markdown",
   "id": "6c344472-9800-4f7b-b22a-a35ccebbe784",
   "metadata": {
    "jp-MarkdownHeadingCollapsed": true
   },
   "source": [
    "&nbsp;\n",
    "&nbsp;\n"
   ]
  },
  {
   "cell_type": "markdown",
   "id": "9e2dc78c-302e-44d2-b858-1914cb142bb0",
   "metadata": {},
   "source": [
    "&nbsp;\n",
    "&nbsp;"
   ]
  },
  {
   "cell_type": "markdown",
   "id": "8adec09b-c63e-4a4f-9fe9-4e285a80a17e",
   "metadata": {},
   "source": [
    "### Average Engagement rate across different Platform"
   ]
  },
  {
   "cell_type": "code",
   "execution_count": 78,
   "id": "f1505ec5-a4cb-48ca-a43c-712a1b578f5f",
   "metadata": {},
   "outputs": [
    {
     "data": {
      "text/html": [
       "<div>\n",
       "<style scoped>\n",
       "    .dataframe tbody tr th:only-of-type {\n",
       "        vertical-align: middle;\n",
       "    }\n",
       "\n",
       "    .dataframe tbody tr th {\n",
       "        vertical-align: top;\n",
       "    }\n",
       "\n",
       "    .dataframe thead th {\n",
       "        text-align: right;\n",
       "    }\n",
       "</style>\n",
       "<table border=\"1\" class=\"dataframe\">\n",
       "  <thead>\n",
       "    <tr style=\"text-align: right;\">\n",
       "      <th></th>\n",
       "      <th>Platform</th>\n",
       "      <th>average engagement rate</th>\n",
       "      <th>Average Impressions</th>\n",
       "    </tr>\n",
       "  </thead>\n",
       "  <tbody>\n",
       "    <tr>\n",
       "      <th>0</th>\n",
       "      <td>Facebook</td>\n",
       "      <td>46.910505</td>\n",
       "      <td>5768.218176</td>\n",
       "    </tr>\n",
       "    <tr>\n",
       "      <th>1</th>\n",
       "      <td>LinkedIn</td>\n",
       "      <td>46.725043</td>\n",
       "      <td>5758.335827</td>\n",
       "    </tr>\n",
       "    <tr>\n",
       "      <th>2</th>\n",
       "      <td>Twitter</td>\n",
       "      <td>46.918246</td>\n",
       "      <td>5747.138235</td>\n",
       "    </tr>\n",
       "    <tr>\n",
       "      <th>3</th>\n",
       "      <td>Instagram</td>\n",
       "      <td>47.125054</td>\n",
       "      <td>5736.976807</td>\n",
       "    </tr>\n",
       "  </tbody>\n",
       "</table>\n",
       "</div>"
      ],
      "text/plain": [
       "    Platform  average engagement rate  Average Impressions\n",
       "0   Facebook                46.910505          5768.218176\n",
       "1   LinkedIn                46.725043          5758.335827\n",
       "2    Twitter                46.918246          5747.138235\n",
       "3  Instagram                47.125054          5736.976807"
      ]
     },
     "execution_count": 78,
     "metadata": {},
     "output_type": "execute_result"
    }
   ],
   "source": [
    "pd.read_sql_query(\"\"\" SELECT \"Platform\", \n",
    "                        avg(\"Engagement Rate\") as \"average engagement rate\",\n",
    "                        avg(\"Impressions\") as \"Average Impressions\"\n",
    "                        FROM social\n",
    "                        group by \"Platform\"\n",
    "                        order by 3 desc\n",
    "                        \"\"\", engine )"
   ]
  },
  {
   "cell_type": "code",
   "execution_count": 15,
   "id": "fa57a7ff-b275-4fc2-8db0-8d562090d679",
   "metadata": {},
   "outputs": [
    {
     "name": "stdout",
     "output_type": "stream",
     "text": [
      "[0 1 2 3]\n"
     ]
    },
    {
     "data": {
      "image/png": "[encoded data removed]",
      "text/plain": [
       "<Figure size 1000x800 with 1 Axes>"
      ]
     },
     "metadata": {},
     "output_type": "display_data"
    }
   ],
   "source": [
    "query = \"\"\" SELECT \"Platform\", avg(\"Engagement Rate\") as \"average engagement rate\"\n",
    "                        FROM social\n",
    "                        group by \"Platform\"\n",
    "                        \"\"\"\n",
    "df =  pd.read_sql_query(query, engine)\n",
    "\n",
    "plt.figure(figsize=(10, 8))\n",
    "bin_width = 0.5\n",
    "x = np.arange(len(df[\"Platform\"]))\n",
    "print(x)\n",
    "\n",
    "plt.bar(x, df[\"average engagement rate\"], width = bin_width, color='b')\n",
    "plt.title(\"Average Engagement rate across different platform\")\n",
    "\n",
    "for i ,value in enumerate(df['average engagement rate']):\n",
    "    plt.text(x[i] , value , str(round(value, 2)) , va='bottom' , ha='center')\n",
    "\n",
    "plt.xticks(x, df['Platform'], rotation=60)\n",
    "plt.show()"
   ]
  },
  {
   "cell_type": "markdown",
   "id": "1e916e63-5961-497f-b664-3e1fa7a1607c",
   "metadata": {},
   "source": [
    "#### This indicates that, on average, posts across different platforms receive a similar level of engagement, with an average engagement rate of around 46%. "
   ]
  },
  {
   "cell_type": "markdown",
   "id": "2bd74e3d-0f00-41e1-94e7-763550195a34",
   "metadata": {},
   "source": [
    "&nbsp;\n",
    "&nbsp;"
   ]
  },
  {
   "cell_type": "markdown",
   "id": "3e2a3a0a-a379-4b36-93c3-c98ae79239c3",
   "metadata": {},
   "source": [
    "### Engagement Rate by \"Age Group\""
   ]
  },
  {
   "cell_type": "code",
   "execution_count": 92,
   "id": "06072fef-094b-4c07-83ae-9af4ffeaa692",
   "metadata": {},
   "outputs": [
    {
     "data": {
      "text/html": [
       "<div>\n",
       "<style scoped>\n",
       "    .dataframe tbody tr th:only-of-type {\n",
       "        vertical-align: middle;\n",
       "    }\n",
       "\n",
       "    .dataframe tbody tr th {\n",
       "        vertical-align: top;\n",
       "    }\n",
       "\n",
       "    .dataframe thead th {\n",
       "        text-align: right;\n",
       "    }\n",
       "</style>\n",
       "<table border=\"1\" class=\"dataframe\">\n",
       "  <thead>\n",
       "    <tr style=\"text-align: right;\">\n",
       "      <th></th>\n",
       "      <th>Age Group</th>\n",
       "      <th>Engagement Rate</th>\n",
       "      <th>Total Impressions</th>\n",
       "    </tr>\n",
       "  </thead>\n",
       "  <tbody>\n",
       "    <tr>\n",
       "      <th>0</th>\n",
       "      <td>Senior Adults</td>\n",
       "      <td>34.22</td>\n",
       "      <td>240104417.0</td>\n",
       "    </tr>\n",
       "    <tr>\n",
       "      <th>1</th>\n",
       "      <td>Mature Adults</td>\n",
       "      <td>34.04</td>\n",
       "      <td>179951923.0</td>\n",
       "    </tr>\n",
       "    <tr>\n",
       "      <th>2</th>\n",
       "      <td>Adolescent Adults</td>\n",
       "      <td>34.19</td>\n",
       "      <td>155210923.0</td>\n",
       "    </tr>\n",
       "  </tbody>\n",
       "</table>\n",
       "</div>"
      ],
      "text/plain": [
       "           Age Group  Engagement Rate   Total Impressions\n",
       "0      Senior Adults             34.22        240104417.0\n",
       "1      Mature Adults             34.04        179951923.0\n",
       "2  Adolescent Adults             34.19        155210923.0"
      ]
     },
     "execution_count": 92,
     "metadata": {},
     "output_type": "execute_result"
    }
   ],
   "source": [
    "pd.read_sql_query(\"\"\" SELECT \"Age Group\", \n",
    "                \tround(100 * sum(\"Total Likes\" + \"Total Comments\" + \"Total Shares\")/ sum(\"Total Reach\"), 2) as \"Engagement Rate \" ,\n",
    "                \tsum(\"Total Impressions\") as \"Total Impressions\"\n",
    "                    FROM \n",
    "                    (\n",
    "                      SELECT  \"Age Group\", \n",
    "                      sum(\"Comments\") as \"Total Comments\" ,\n",
    "                      sum(\"Likes\") as \"Total Likes\" , \n",
    "                      sum(\"Shares\")  as \"Total Shares\" , \n",
    "                      sum(\"Reach\") as \"Total Reach\" , \n",
    "                      sum(\"Impressions\") as \"Total Impressions\"\n",
    "                      FROM social group by 1\n",
    "                \t  ) as c\n",
    "                     group by \"Age Group\"\n",
    "                     order by \"Total Impressions\" desc\n",
    "                        \"\"\", engine )"
   ]
  },
  {
   "cell_type": "markdown",
   "id": "c8e9d4f7-979e-4512-a4ff-17c9c5dd0586",
   "metadata": {},
   "source": [
    "#### Senior Adults have the highest engagement rate at 34.22%, indicating active interaction with content relative to their reach. They also lead in total impressions, suggesting their substantial presence in engagement and exposure."
   ]
  },
  {
   "cell_type": "markdown",
   "id": "a3fcef6d-1cc1-4995-b393-90600a47dfb0",
   "metadata": {},
   "source": [
    "&nbsp;\n",
    "&nbsp;"
   ]
  },
  {
   "cell_type": "markdown",
   "id": "38ff9224-d0c6-4ba4-8bfd-1abf927adc29",
   "metadata": {},
   "source": [
    "#### Engagement Rate for different Time Periods"
   ]
  },
  {
   "cell_type": "code",
   "execution_count": 87,
   "id": "95b1f8a7-3baf-4f7d-91dc-31922f430cd2",
   "metadata": {},
   "outputs": [
    {
     "data": {
      "text/html": [
       "<div>\n",
       "<style scoped>\n",
       "    .dataframe tbody tr th:only-of-type {\n",
       "        vertical-align: middle;\n",
       "    }\n",
       "\n",
       "    .dataframe tbody tr th {\n",
       "        vertical-align: top;\n",
       "    }\n",
       "\n",
       "    .dataframe thead th {\n",
       "        text-align: right;\n",
       "    }\n",
       "</style>\n",
       "<table border=\"1\" class=\"dataframe\">\n",
       "  <thead>\n",
       "    <tr style=\"text-align: right;\">\n",
       "      <th></th>\n",
       "      <th>Time Periods</th>\n",
       "      <th>Platform</th>\n",
       "      <th>engagement_rate</th>\n",
       "      <th>Total Impressions</th>\n",
       "    </tr>\n",
       "  </thead>\n",
       "  <tbody>\n",
       "    <tr>\n",
       "      <th>0</th>\n",
       "      <td>Night</td>\n",
       "      <td>Facebook</td>\n",
       "      <td>34.02</td>\n",
       "      <td>47808660.0</td>\n",
       "    </tr>\n",
       "    <tr>\n",
       "      <th>1</th>\n",
       "      <td>Morning</td>\n",
       "      <td>Facebook</td>\n",
       "      <td>33.91</td>\n",
       "      <td>36210485.0</td>\n",
       "    </tr>\n",
       "    <tr>\n",
       "      <th>2</th>\n",
       "      <td>Afternoon</td>\n",
       "      <td>Facebook</td>\n",
       "      <td>34.52</td>\n",
       "      <td>36028508.0</td>\n",
       "    </tr>\n",
       "    <tr>\n",
       "      <th>3</th>\n",
       "      <td>Evening</td>\n",
       "      <td>Facebook</td>\n",
       "      <td>34.29</td>\n",
       "      <td>23459847.0</td>\n",
       "    </tr>\n",
       "    <tr>\n",
       "      <th>4</th>\n",
       "      <td>Night</td>\n",
       "      <td>Instagram</td>\n",
       "      <td>34.13</td>\n",
       "      <td>47125505.0</td>\n",
       "    </tr>\n",
       "    <tr>\n",
       "      <th>5</th>\n",
       "      <td>Afternoon</td>\n",
       "      <td>Instagram</td>\n",
       "      <td>34.25</td>\n",
       "      <td>35749704.0</td>\n",
       "    </tr>\n",
       "    <tr>\n",
       "      <th>6</th>\n",
       "      <td>Morning</td>\n",
       "      <td>Instagram</td>\n",
       "      <td>34.12</td>\n",
       "      <td>35557100.0</td>\n",
       "    </tr>\n",
       "    <tr>\n",
       "      <th>7</th>\n",
       "      <td>Evening</td>\n",
       "      <td>Instagram</td>\n",
       "      <td>34.19</td>\n",
       "      <td>24045510.0</td>\n",
       "    </tr>\n",
       "    <tr>\n",
       "      <th>8</th>\n",
       "      <td>Night</td>\n",
       "      <td>LinkedIn</td>\n",
       "      <td>34.19</td>\n",
       "      <td>48049736.0</td>\n",
       "    </tr>\n",
       "    <tr>\n",
       "      <th>9</th>\n",
       "      <td>Morning</td>\n",
       "      <td>LinkedIn</td>\n",
       "      <td>34.15</td>\n",
       "      <td>36485224.0</td>\n",
       "    </tr>\n",
       "    <tr>\n",
       "      <th>10</th>\n",
       "      <td>Afternoon</td>\n",
       "      <td>LinkedIn</td>\n",
       "      <td>33.71</td>\n",
       "      <td>35701649.0</td>\n",
       "    </tr>\n",
       "    <tr>\n",
       "      <th>11</th>\n",
       "      <td>Evening</td>\n",
       "      <td>LinkedIn</td>\n",
       "      <td>34.24</td>\n",
       "      <td>24447337.0</td>\n",
       "    </tr>\n",
       "    <tr>\n",
       "      <th>12</th>\n",
       "      <td>Night</td>\n",
       "      <td>Twitter</td>\n",
       "      <td>34.47</td>\n",
       "      <td>47712614.0</td>\n",
       "    </tr>\n",
       "    <tr>\n",
       "      <th>13</th>\n",
       "      <td>Afternoon</td>\n",
       "      <td>Twitter</td>\n",
       "      <td>34.27</td>\n",
       "      <td>36323133.0</td>\n",
       "    </tr>\n",
       "    <tr>\n",
       "      <th>14</th>\n",
       "      <td>Morning</td>\n",
       "      <td>Twitter</td>\n",
       "      <td>33.79</td>\n",
       "      <td>35670776.0</td>\n",
       "    </tr>\n",
       "    <tr>\n",
       "      <th>15</th>\n",
       "      <td>Evening</td>\n",
       "      <td>Twitter</td>\n",
       "      <td>34.25</td>\n",
       "      <td>24891475.0</td>\n",
       "    </tr>\n",
       "  </tbody>\n",
       "</table>\n",
       "</div>"
      ],
      "text/plain": [
       "   Time Periods   Platform  engagement_rate  Total Impressions\n",
       "0         Night   Facebook            34.02         47808660.0\n",
       "1       Morning   Facebook            33.91         36210485.0\n",
       "2     Afternoon   Facebook            34.52         36028508.0\n",
       "3       Evening   Facebook            34.29         23459847.0\n",
       "4         Night  Instagram            34.13         47125505.0\n",
       "5     Afternoon  Instagram            34.25         35749704.0\n",
       "6       Morning  Instagram            34.12         35557100.0\n",
       "7       Evening  Instagram            34.19         24045510.0\n",
       "8         Night   LinkedIn            34.19         48049736.0\n",
       "9       Morning   LinkedIn            34.15         36485224.0\n",
       "10    Afternoon   LinkedIn            33.71         35701649.0\n",
       "11      Evening   LinkedIn            34.24         24447337.0\n",
       "12        Night    Twitter            34.47         47712614.0\n",
       "13    Afternoon    Twitter            34.27         36323133.0\n",
       "14      Morning    Twitter            33.79         35670776.0\n",
       "15      Evening    Twitter            34.25         24891475.0"
      ]
     },
     "execution_count": 87,
     "metadata": {},
     "output_type": "execute_result"
    }
   ],
   "source": [
    "pd.read_sql_query((\"\"\"  SELECT \"Time Periods\" ,\n",
    "                        \"Platform\",\n",
    "                        round(100 * (sum(\"Total Comments\" + \"Total Likes\" + \"Total Shares\") / sum(\"Total Reach\")), 2)  as engagement_rate,\n",
    "                        sum(\"Total Impressions\") as \"Total Impressions\"\n",
    "                        FROM\n",
    "                        (\n",
    "                        SELECT \"Time Periods\" , \n",
    "                        \"Platform\",sum(\"Likes\") as \"Total Likes\" , \n",
    "                        sum(\"Comments\") as \"Total Comments\", \n",
    "                        sum(\"Impressions\") as \"Total Impressions\",\n",
    "                        sum(\"Shares\") as \"Total Shares\", sum(\"Reach\") as \"Total Reach\"\n",
    "                        FROM social \n",
    "                        group by 1, 2\n",
    "                        \t) as c\n",
    "                        group by \"Time Periods\", \"Platform\"\n",
    "                        order by  \"Platform\" asc, \"Total Impressions\" desc\n",
    "                        ;\n",
    "\n",
    "\n",
    "                        \"\"\"), engine )"
   ]
  },
  {
   "cell_type": "markdown",
   "id": "70c36b4f-761b-48cc-8c99-72de6d4e65ec",
   "metadata": {},
   "source": [
    "#### Varies across platforms and time periods, with the highest impressions generally observed during the Night time period across all             platforms."
   ]
  },
  {
   "cell_type": "markdown",
   "id": "9b652825-6625-4497-a104-cbb2cce6718d",
   "metadata": {},
   "source": [
    "&nbsp;\n",
    "&nbsp;"
   ]
  },
  {
   "cell_type": "markdown",
   "id": "097f5ff9-405c-49f3-b99f-9984b9af2756",
   "metadata": {},
   "source": [
    "#### Number of Social Media Posts by Year-Quarter"
   ]
  },
  {
   "cell_type": "code",
   "execution_count": 86,
   "id": "ae23b143-c4fe-4796-acce-8bfe7cbb7fc7",
   "metadata": {},
   "outputs": [
    {
     "data": {
      "application/vnd.plotly.v1+json": {
       "config": {
        "plotlyServerURL": "https://plot.ly"
       },
       "data": [
        {
         "line": {
          "color": "green"
         },
         "mode": "lines",
         "name": "Number of Posts",
         "type": "scatter",
         "x": [
          "2021Q2",
          "2021Q3",
          "2021Q4",
          "2022Q1",
          "2022Q2",
          "2022Q3",
          "2022Q4",
          "2023Q1",
          "2023Q2",
          "2023Q3",
          "2023Q4"
         ],
         "y": [
          8287,
          8357,
          8326,
          8165,
          8300,
          8335,
          8412,
          8195,
          8377,
          8325,
          8522
         ]
        }
       ],
       "layout": {
        "height": 800,
        "template": {
         "data": {
          "bar": [
           {
            "error_x": {
             "color": "#2a3f5f"
            },
            "error_y": {
             "color": "#2a3f5f"
            },
            "marker": {
             "line": {
              "color": "#E5ECF6",
              "width": 0.5
             },
             "pattern": {
              "fillmode": "overlay",
              "size": 10,
              "solidity": 0.2
             }
            },
            "type": "bar"
           }
          ],
          "barpolar": [
           {
            "marker": {
             "line": {
              "color": "#E5ECF6",
              "width": 0.5
             },
             "pattern": {
              "fillmode": "overlay",
              "size": 10,
              "solidity": 0.2
             }
            },
            "type": "barpolar"
           }
          ],
          "carpet": [
           {
            "aaxis": {
             "endlinecolor": "#2a3f5f",
             "gridcolor": "white",
             "linecolor": "white",
             "minorgridcolor": "white",
             "startlinecolor": "#2a3f5f"
            },
            "baxis": {
             "endlinecolor": "#2a3f5f",
             "gridcolor": "white",
             "linecolor": "white",
             "minorgridcolor": "white",
             "startlinecolor": "#2a3f5f"
            },
            "type": "carpet"
           }
          ],
          "choropleth": [
           {
            "colorbar": {
             "outlinewidth": 0,
             "ticks": ""
            },
            "type": "choropleth"
           }
          ],
          "contour": [
           {
            "colorbar": {
             "outlinewidth": 0,
             "ticks": ""
            },
            "colorscale": [
             [
              0,
              "#0d0887"
             ],
             [
              0.1111111111111111,
              "#46039f"
             ],
             [
              0.2222222222222222,
              "#7201a8"
             ],
             [
              0.3333333333333333,
              "#9c179e"
             ],
             [
              0.4444444444444444,
              "#bd3786"
             ],
             [
              0.5555555555555556,
              "#d8576b"
             ],
             [
              0.6666666666666666,
              "#ed7953"
             ],
             [
              0.7777777777777778,
              "#fb9f3a"
             ],
             [
              0.8888888888888888,
              "#fdca26"
             ],
             [
              1,
              "#f0f921"
             ]
            ],
            "type": "contour"
           }
          ],
          "contourcarpet": [
           {
            "colorbar": {
             "outlinewidth": 0,
             "ticks": ""
            },
            "type": "contourcarpet"
           }
          ],
          "heatmap": [
           {
            "colorbar": {
             "outlinewidth": 0,
             "ticks": ""
            },
            "colorscale": [
             [
              0,
              "#0d0887"
             ],
             [
              0.1111111111111111,
              "#46039f"
             ],
             [
              0.2222222222222222,
              "#7201a8"
             ],
             [
              0.3333333333333333,
              "#9c179e"
             ],
             [
              0.4444444444444444,
              "#bd3786"
             ],
             [
              0.5555555555555556,
              "#d8576b"
             ],
             [
              0.6666666666666666,
              "#ed7953"
             ],
             [
              0.7777777777777778,
              "#fb9f3a"
             ],
             [
              0.8888888888888888,
              "#fdca26"
             ],
             [
              1,
              "#f0f921"
             ]
            ],
            "type": "heatmap"
           }
          ],
          "heatmapgl": [
           {
            "colorbar": {
             "outlinewidth": 0,
             "ticks": ""
            },
            "colorscale": [
             [
              0,
              "#0d0887"
             ],
             [
              0.1111111111111111,
              "#46039f"
             ],
             [
              0.2222222222222222,
              "#7201a8"
             ],
             [
              0.3333333333333333,
              "#9c179e"
             ],
             [
              0.4444444444444444,
              "#bd3786"
             ],
             [
              0.5555555555555556,
              "#d8576b"
             ],
             [
              0.6666666666666666,
              "#ed7953"
             ],
             [
              0.7777777777777778,
              "#fb9f3a"
             ],
             [
              0.8888888888888888,
              "#fdca26"
             ],
             [
              1,
              "#f0f921"
             ]
            ],
            "type": "heatmapgl"
           }
          ],
          "histogram": [
           {
            "marker": {
             "pattern": {
              "fillmode": "overlay",
              "size": 10,
              "solidity": 0.2
             }
            },
            "type": "histogram"
           }
          ],
          "histogram2d": [
           {
            "colorbar": {
             "outlinewidth": 0,
             "ticks": ""
            },
            "colorscale": [
             [
              0,
              "#0d0887"
             ],
             [
              0.1111111111111111,
              "#46039f"
             ],
             [
              0.2222222222222222,
              "#7201a8"
             ],
             [
              0.3333333333333333,
              "#9c179e"
             ],
             [
              0.4444444444444444,
              "#bd3786"
             ],
             [
              0.5555555555555556,
              "#d8576b"
             ],
             [
              0.6666666666666666,
              "#ed7953"
             ],
             [
              0.7777777777777778,
              "#fb9f3a"
             ],
             [
              0.8888888888888888,
              "#fdca26"
             ],
             [
              1,
              "#f0f921"
             ]
            ],
            "type": "histogram2d"
           }
          ],
          "histogram2dcontour": [
           {
            "colorbar": {
             "outlinewidth": 0,
             "ticks": ""
            },
            "colorscale": [
             [
              0,
              "#0d0887"
             ],
             [
              0.1111111111111111,
              "#46039f"
             ],
             [
              0.2222222222222222,
              "#7201a8"
             ],
             [
              0.3333333333333333,
              "#9c179e"
             ],
             [
              0.4444444444444444,
              "#bd3786"
             ],
             [
              0.5555555555555556,
              "#d8576b"
             ],
             [
              0.6666666666666666,
              "#ed7953"
             ],
             [
              0.7777777777777778,
              "#fb9f3a"
             ],
             [
              0.8888888888888888,
              "#fdca26"
             ],
             [
              1,
              "#f0f921"
             ]
            ],
            "type": "histogram2dcontour"
           }
          ],
          "mesh3d": [
           {
            "colorbar": {
             "outlinewidth": 0,
             "ticks": ""
            },
            "type": "mesh3d"
           }
          ],
          "parcoords": [
           {
            "line": {
             "colorbar": {
              "outlinewidth": 0,
              "ticks": ""
             }
            },
            "type": "parcoords"
           }
          ],
          "pie": [
           {
            "automargin": true,
            "type": "pie"
           }
          ],
          "scatter": [
           {
            "fillpattern": {
             "fillmode": "overlay",
             "size": 10,
             "solidity": 0.2
            },
            "type": "scatter"
           }
          ],
          "scatter3d": [
           {
            "line": {
             "colorbar": {
              "outlinewidth": 0,
              "ticks": ""
             }
            },
            "marker": {
             "colorbar": {
              "outlinewidth": 0,
              "ticks": ""
             }
            },
            "type": "scatter3d"
           }
          ],
          "scattercarpet": [
           {
            "marker": {
             "colorbar": {
              "outlinewidth": 0,
              "ticks": ""
             }
            },
            "type": "scattercarpet"
           }
          ],
          "scattergeo": [
           {
            "marker": {
             "colorbar": {
              "outlinewidth": 0,
              "ticks": ""
             }
            },
            "type": "scattergeo"
           }
          ],
          "scattergl": [
           {
            "marker": {
             "colorbar": {
              "outlinewidth": 0,
              "ticks": ""
             }
            },
            "type": "scattergl"
           }
          ],
          "scattermapbox": [
           {
            "marker": {
             "colorbar": {
              "outlinewidth": 0,
              "ticks": ""
             }
            },
            "type": "scattermapbox"
           }
          ],
          "scatterpolar": [
           {
            "marker": {
             "colorbar": {
              "outlinewidth": 0,
              "ticks": ""
             }
            },
            "type": "scatterpolar"
           }
          ],
          "scatterpolargl": [
           {
            "marker": {
             "colorbar": {
              "outlinewidth": 0,
              "ticks": ""
             }
            },
            "type": "scatterpolargl"
           }
          ],
          "scatterternary": [
           {
            "marker": {
             "colorbar": {
              "outlinewidth": 0,
              "ticks": ""
             }
            },
            "type": "scatterternary"
           }
          ],
          "surface": [
           {
            "colorbar": {
             "outlinewidth": 0,
             "ticks": ""
            },
            "colorscale": [
             [
              0,
              "#0d0887"
             ],
             [
              0.1111111111111111,
              "#46039f"
             ],
             [
              0.2222222222222222,
              "#7201a8"
             ],
             [
              0.3333333333333333,
              "#9c179e"
             ],
             [
              0.4444444444444444,
              "#bd3786"
             ],
             [
              0.5555555555555556,
              "#d8576b"
             ],
             [
              0.6666666666666666,
              "#ed7953"
             ],
             [
              0.7777777777777778,
              "#fb9f3a"
             ],
             [
              0.8888888888888888,
              "#fdca26"
             ],
             [
              1,
              "#f0f921"
             ]
            ],
            "type": "surface"
           }
          ],
          "table": [
           {
            "cells": {
             "fill": {
              "color": "#EBF0F8"
             },
             "line": {
              "color": "white"
             }
            },
            "header": {
             "fill": {
              "color": "#C8D4E3"
             },
             "line": {
              "color": "white"
             }
            },
            "type": "table"
           }
          ]
         },
         "layout": {
          "annotationdefaults": {
           "arrowcolor": "#2a3f5f",
           "arrowhead": 0,
           "arrowwidth": 1
          },
          "autotypenumbers": "strict",
          "coloraxis": {
           "colorbar": {
            "outlinewidth": 0,
            "ticks": ""
           }
          },
          "colorscale": {
           "diverging": [
            [
             0,
             "#8e0152"
            ],
            [
             0.1,
             "#c51b7d"
            ],
            [
             0.2,
             "#de77ae"
            ],
            [
             0.3,
             "#f1b6da"
            ],
            [
             0.4,
             "#fde0ef"
            ],
            [
             0.5,
             "#f7f7f7"
            ],
            [
             0.6,
             "#e6f5d0"
            ],
            [
             0.7,
             "#b8e186"
            ],
            [
             0.8,
             "#7fbc41"
            ],
            [
             0.9,
             "#4d9221"
            ],
            [
             1,
             "#276419"
            ]
           ],
           "sequential": [
            [
             0,
             "#0d0887"
            ],
            [
             0.1111111111111111,
             "#46039f"
            ],
            [
             0.2222222222222222,
             "#7201a8"
            ],
            [
             0.3333333333333333,
             "#9c179e"
            ],
            [
             0.4444444444444444,
             "#bd3786"
            ],
            [
             0.5555555555555556,
             "#d8576b"
            ],
            [
             0.6666666666666666,
             "#ed7953"
            ],
            [
             0.7777777777777778,
             "#fb9f3a"
            ],
            [
             0.8888888888888888,
             "#fdca26"
            ],
            [
             1,
             "#f0f921"
            ]
           ],
           "sequentialminus": [
            [
             0,
             "#0d0887"
            ],
            [
             0.1111111111111111,
             "#46039f"
            ],
            [
             0.2222222222222222,
             "#7201a8"
            ],
            [
             0.3333333333333333,
             "#9c179e"
            ],
            [
             0.4444444444444444,
             "#bd3786"
            ],
            [
             0.5555555555555556,
             "#d8576b"
            ],
            [
             0.6666666666666666,
             "#ed7953"
            ],
            [
             0.7777777777777778,
             "#fb9f3a"
            ],
            [
             0.8888888888888888,
             "#fdca26"
            ],
            [
             1,
             "#f0f921"
            ]
           ]
          },
          "colorway": [
           "#636efa",
           "#EF553B",
           "#00cc96",
           "#ab63fa",
           "#FFA15A",
           "#19d3f3",
           "#FF6692",
           "#B6E880",
           "#FF97FF",
           "#FECB52"
          ],
          "font": {
           "color": "#2a3f5f"
          },
          "geo": {
           "bgcolor": "white",
           "lakecolor": "white",
           "landcolor": "#E5ECF6",
           "showlakes": true,
           "showland": true,
           "subunitcolor": "white"
          },
          "hoverlabel": {
           "align": "left"
          },
          "hovermode": "closest",
          "mapbox": {
           "style": "light"
          },
          "paper_bgcolor": "white",
          "plot_bgcolor": "#E5ECF6",
          "polar": {
           "angularaxis": {
            "gridcolor": "white",
            "linecolor": "white",
            "ticks": ""
           },
           "bgcolor": "#E5ECF6",
           "radialaxis": {
            "gridcolor": "white",
            "linecolor": "white",
            "ticks": ""
           }
          },
          "scene": {
           "xaxis": {
            "backgroundcolor": "#E5ECF6",
            "gridcolor": "white",
            "gridwidth": 2,
            "linecolor": "white",
            "showbackground": true,
            "ticks": "",
            "zerolinecolor": "white"
           },
           "yaxis": {
            "backgroundcolor": "#E5ECF6",
            "gridcolor": "white",
            "gridwidth": 2,
            "linecolor": "white",
            "showbackground": true,
            "ticks": "",
            "zerolinecolor": "white"
           },
           "zaxis": {
            "backgroundcolor": "#E5ECF6",
            "gridcolor": "white",
            "gridwidth": 2,
            "linecolor": "white",
            "showbackground": true,
            "ticks": "",
            "zerolinecolor": "white"
           }
          },
          "shapedefaults": {
           "line": {
            "color": "#2a3f5f"
           }
          },
          "ternary": {
           "aaxis": {
            "gridcolor": "white",
            "linecolor": "white",
            "ticks": ""
           },
           "baxis": {
            "gridcolor": "white",
            "linecolor": "white",
            "ticks": ""
           },
           "bgcolor": "#E5ECF6",
           "caxis": {
            "gridcolor": "white",
            "linecolor": "white",
            "ticks": ""
           }
          },
          "title": {
           "x": 0.05
          },
          "xaxis": {
           "automargin": true,
           "gridcolor": "white",
           "linecolor": "white",
           "ticks": "",
           "title": {
            "standoff": 15
           },
           "zerolinecolor": "white",
           "zerolinewidth": 2
          },
          "yaxis": {
           "automargin": true,
           "gridcolor": "white",
           "linecolor": "white",
           "ticks": "",
           "title": {
            "standoff": 15
           },
           "zerolinecolor": "white",
           "zerolinewidth": 2
          }
         }
        },
        "title": {
         "text": "Number of Social Media Posts by Quarter, 2021-2023",
         "x": 0.5
        },
        "width": 1000,
        "xaxis": {
         "autorange": true,
         "range": [
          0,
          10
         ],
         "title": {
          "text": "Year Quarter"
         },
         "type": "category"
        },
        "yaxis": {
         "autorange": true,
         "range": [
          8145.166666666667,
          8541.833333333334
         ],
         "title": {
          "text": "Count of Posts"
         },
         "type": "linear"
        }
       }
      },
      "image/png": "[encoded data removed]",
      "text/html": [
       "<div>                            <div id=\"4d8e8dac-5dd1-4449-bbe3-9c87d57b2c39\" class=\"plotly-graph-div\" style=\"height:800px; width:1000px;\"></div>            <script type=\"text/javascript\">                require([\"plotly\"], function(Plotly) {                    window.PLOTLYENV=window.PLOTLYENV || {};                                    if (document.getElementById(\"4d8e8dac-5dd1-4449-bbe3-9c87d57b2c39\")) {                    Plotly.newPlot(                        \"4d8e8dac-5dd1-4449-bbe3-9c87d57b2c39\",                        [{\"line\":{\"color\":\"green\"},\"mode\":\"lines\",\"name\":\"Number of Posts\",\"x\":[\"2021Q2\",\"2021Q3\",\"2021Q4\",\"2022Q1\",\"2022Q2\",\"2022Q3\",\"2022Q4\",\"2023Q1\",\"2023Q2\",\"2023Q3\",\"2023Q4\"],\"y\":[8287,8357,8326,8165,8300,8335,8412,8195,8377,8325,8522],\"type\":\"scatter\"}],                        {\"template\":{\"data\":{\"histogram2dcontour\":[{\"type\":\"histogram2dcontour\",\"colorbar\":{\"outlinewidth\":0,\"ticks\":\"\"},\"colorscale\":[[0.0,\"#0d0887\"],[0.1111111111111111,\"#46039f\"],[0.2222222222222222,\"#7201a8\"],[0.3333333333333333,\"#9c179e\"],[0.4444444444444444,\"#bd3786\"],[0.5555555555555556,\"#d8576b\"],[0.6666666666666666,\"#ed7953\"],[0.7777777777777778,\"#fb9f3a\"],[0.8888888888888888,\"#fdca26\"],[1.0,\"#f0f921\"]]}],\"choropleth\":[{\"type\":\"choropleth\",\"colorbar\":{\"outlinewidth\":0,\"ticks\":\"\"}}],\"histogram2d\":[{\"type\":\"histogram2d\",\"colorbar\":{\"outlinewidth\":0,\"ticks\":\"\"},\"colorscale\":[[0.0,\"#0d0887\"],[0.1111111111111111,\"#46039f\"],[0.2222222222222222,\"#7201a8\"],[0.3333333333333333,\"#9c179e\"],[0.4444444444444444,\"#bd3786\"],[0.5555555555555556,\"#d8576b\"],[0.6666666666666666,\"#ed7953\"],[0.7777777777777778,\"#fb9f3a\"],[0.8888888888888888,\"#fdca26\"],[1.0,\"#f0f921\"]]}],\"heatmap\":[{\"type\":\"heatmap\",\"colorbar\":{\"outlinewidth\":0,\"ticks\":\"\"},\"colorscale\":[[0.0,\"#0d0887\"],[0.1111111111111111,\"#46039f\"],[0.2222222222222222,\"#7201a8\"],[0.3333333333333333,\"#9c179e\"],[0.4444444444444444,\"#bd3786\"],[0.5555555555555556,\"#d8576b\"],[0.6666666666666666,\"#ed7953\"],[0.7777777777777778,\"#fb9f3a\"],[0.8888888888888888,\"#fdca26\"],[1.0,\"#f0f921\"]]}],\"heatmapgl\":[{\"type\":\"heatmapgl\",\"colorbar\":{\"outlinewidth\":0,\"ticks\":\"\"},\"colorscale\":[[0.0,\"#0d0887\"],[0.1111111111111111,\"#46039f\"],[0.2222222222222222,\"#7201a8\"],[0.3333333333333333,\"#9c179e\"],[0.4444444444444444,\"#bd3786\"],[0.5555555555555556,\"#d8576b\"],[0.6666666666666666,\"#ed7953\"],[0.7777777777777778,\"#fb9f3a\"],[0.8888888888888888,\"#fdca26\"],[1.0,\"#f0f921\"]]}],\"contourcarpet\":[{\"type\":\"contourcarpet\",\"colorbar\":{\"outlinewidth\":0,\"ticks\":\"\"}}],\"contour\":[{\"type\":\"contour\",\"colorbar\":{\"outlinewidth\":0,\"ticks\":\"\"},\"colorscale\":[[0.0,\"#0d0887\"],[0.1111111111111111,\"#46039f\"],[0.2222222222222222,\"#7201a8\"],[0.3333333333333333,\"#9c179e\"],[0.4444444444444444,\"#bd3786\"],[0.5555555555555556,\"#d8576b\"],[0.6666666666666666,\"#ed7953\"],[0.7777777777777778,\"#fb9f3a\"],[0.8888888888888888,\"#fdca26\"],[1.0,\"#f0f921\"]]}],\"surface\":[{\"type\":\"surface\",\"colorbar\":{\"outlinewidth\":0,\"ticks\":\"\"},\"colorscale\":[[0.0,\"#0d0887\"],[0.1111111111111111,\"#46039f\"],[0.2222222222222222,\"#7201a8\"],[0.3333333333333333,\"#9c179e\"],[0.4444444444444444,\"#bd3786\"],[0.5555555555555556,\"#d8576b\"],[0.6666666666666666,\"#ed7953\"],[0.7777777777777778,\"#fb9f3a\"],[0.8888888888888888,\"#fdca26\"],[1.0,\"#f0f921\"]]}],\"mesh3d\":[{\"type\":\"mesh3d\",\"colorbar\":{\"outlinewidth\":0,\"ticks\":\"\"}}],\"scatter\":[{\"fillpattern\":{\"fillmode\":\"overlay\",\"size\":10,\"solidity\":0.2},\"type\":\"scatter\"}],\"parcoords\":[{\"type\":\"parcoords\",\"line\":{\"colorbar\":{\"outlinewidth\":0,\"ticks\":\"\"}}}],\"scatterpolargl\":[{\"type\":\"scatterpolargl\",\"marker\":{\"colorbar\":{\"outlinewidth\":0,\"ticks\":\"\"}}}],\"bar\":[{\"error_x\":{\"color\":\"#2a3f5f\"},\"error_y\":{\"color\":\"#2a3f5f\"},\"marker\":{\"line\":{\"color\":\"#E5ECF6\",\"width\":0.5},\"pattern\":{\"fillmode\":\"overlay\",\"size\":10,\"solidity\":0.2}},\"type\":\"bar\"}],\"scattergeo\":[{\"type\":\"scattergeo\",\"marker\":{\"colorbar\":{\"outlinewidth\":0,\"ticks\":\"\"}}}],\"scatterpolar\":[{\"type\":\"scatterpolar\",\"marker\":{\"colorbar\":{\"outlinewidth\":0,\"ticks\":\"\"}}}],\"histogram\":[{\"marker\":{\"pattern\":{\"fillmode\":\"overlay\",\"size\":10,\"solidity\":0.2}},\"type\":\"histogram\"}],\"scattergl\":[{\"type\":\"scattergl\",\"marker\":{\"colorbar\":{\"outlinewidth\":0,\"ticks\":\"\"}}}],\"scatter3d\":[{\"type\":\"scatter3d\",\"line\":{\"colorbar\":{\"outlinewidth\":0,\"ticks\":\"\"}},\"marker\":{\"colorbar\":{\"outlinewidth\":0,\"ticks\":\"\"}}}],\"scattermapbox\":[{\"type\":\"scattermapbox\",\"marker\":{\"colorbar\":{\"outlinewidth\":0,\"ticks\":\"\"}}}],\"scatterternary\":[{\"type\":\"scatterternary\",\"marker\":{\"colorbar\":{\"outlinewidth\":0,\"ticks\":\"\"}}}],\"scattercarpet\":[{\"type\":\"scattercarpet\",\"marker\":{\"colorbar\":{\"outlinewidth\":0,\"ticks\":\"\"}}}],\"carpet\":[{\"aaxis\":{\"endlinecolor\":\"#2a3f5f\",\"gridcolor\":\"white\",\"linecolor\":\"white\",\"minorgridcolor\":\"white\",\"startlinecolor\":\"#2a3f5f\"},\"baxis\":{\"endlinecolor\":\"#2a3f5f\",\"gridcolor\":\"white\",\"linecolor\":\"white\",\"minorgridcolor\":\"white\",\"startlinecolor\":\"#2a3f5f\"},\"type\":\"carpet\"}],\"table\":[{\"cells\":{\"fill\":{\"color\":\"#EBF0F8\"},\"line\":{\"color\":\"white\"}},\"header\":{\"fill\":{\"color\":\"#C8D4E3\"},\"line\":{\"color\":\"white\"}},\"type\":\"table\"}],\"barpolar\":[{\"marker\":{\"line\":{\"color\":\"#E5ECF6\",\"width\":0.5},\"pattern\":{\"fillmode\":\"overlay\",\"size\":10,\"solidity\":0.2}},\"type\":\"barpolar\"}],\"pie\":[{\"automargin\":true,\"type\":\"pie\"}]},\"layout\":{\"autotypenumbers\":\"strict\",\"colorway\":[\"#636efa\",\"#EF553B\",\"#00cc96\",\"#ab63fa\",\"#FFA15A\",\"#19d3f3\",\"#FF6692\",\"#B6E880\",\"#FF97FF\",\"#FECB52\"],\"font\":{\"color\":\"#2a3f5f\"},\"hovermode\":\"closest\",\"hoverlabel\":{\"align\":\"left\"},\"paper_bgcolor\":\"white\",\"plot_bgcolor\":\"#E5ECF6\",\"polar\":{\"bgcolor\":\"#E5ECF6\",\"angularaxis\":{\"gridcolor\":\"white\",\"linecolor\":\"white\",\"ticks\":\"\"},\"radialaxis\":{\"gridcolor\":\"white\",\"linecolor\":\"white\",\"ticks\":\"\"}},\"ternary\":{\"bgcolor\":\"#E5ECF6\",\"aaxis\":{\"gridcolor\":\"white\",\"linecolor\":\"white\",\"ticks\":\"\"},\"baxis\":{\"gridcolor\":\"white\",\"linecolor\":\"white\",\"ticks\":\"\"},\"caxis\":{\"gridcolor\":\"white\",\"linecolor\":\"white\",\"ticks\":\"\"}},\"coloraxis\":{\"colorbar\":{\"outlinewidth\":0,\"ticks\":\"\"}},\"colorscale\":{\"sequential\":[[0.0,\"#0d0887\"],[0.1111111111111111,\"#46039f\"],[0.2222222222222222,\"#7201a8\"],[0.3333333333333333,\"#9c179e\"],[0.4444444444444444,\"#bd3786\"],[0.5555555555555556,\"#d8576b\"],[0.6666666666666666,\"#ed7953\"],[0.7777777777777778,\"#fb9f3a\"],[0.8888888888888888,\"#fdca26\"],[1.0,\"#f0f921\"]],\"sequentialminus\":[[0.0,\"#0d0887\"],[0.1111111111111111,\"#46039f\"],[0.2222222222222222,\"#7201a8\"],[0.3333333333333333,\"#9c179e\"],[0.4444444444444444,\"#bd3786\"],[0.5555555555555556,\"#d8576b\"],[0.6666666666666666,\"#ed7953\"],[0.7777777777777778,\"#fb9f3a\"],[0.8888888888888888,\"#fdca26\"],[1.0,\"#f0f921\"]],\"diverging\":[[0,\"#8e0152\"],[0.1,\"#c51b7d\"],[0.2,\"#de77ae\"],[0.3,\"#f1b6da\"],[0.4,\"#fde0ef\"],[0.5,\"#f7f7f7\"],[0.6,\"#e6f5d0\"],[0.7,\"#b8e186\"],[0.8,\"#7fbc41\"],[0.9,\"#4d9221\"],[1,\"#276419\"]]},\"xaxis\":{\"gridcolor\":\"white\",\"linecolor\":\"white\",\"ticks\":\"\",\"title\":{\"standoff\":15},\"zerolinecolor\":\"white\",\"automargin\":true,\"zerolinewidth\":2},\"yaxis\":{\"gridcolor\":\"white\",\"linecolor\":\"white\",\"ticks\":\"\",\"title\":{\"standoff\":15},\"zerolinecolor\":\"white\",\"automargin\":true,\"zerolinewidth\":2},\"scene\":{\"xaxis\":{\"backgroundcolor\":\"#E5ECF6\",\"gridcolor\":\"white\",\"linecolor\":\"white\",\"showbackground\":true,\"ticks\":\"\",\"zerolinecolor\":\"white\",\"gridwidth\":2},\"yaxis\":{\"backgroundcolor\":\"#E5ECF6\",\"gridcolor\":\"white\",\"linecolor\":\"white\",\"showbackground\":true,\"ticks\":\"\",\"zerolinecolor\":\"white\",\"gridwidth\":2},\"zaxis\":{\"backgroundcolor\":\"#E5ECF6\",\"gridcolor\":\"white\",\"linecolor\":\"white\",\"showbackground\":true,\"ticks\":\"\",\"zerolinecolor\":\"white\",\"gridwidth\":2}},\"shapedefaults\":{\"line\":{\"color\":\"#2a3f5f\"}},\"annotationdefaults\":{\"arrowcolor\":\"#2a3f5f\",\"arrowhead\":0,\"arrowwidth\":1},\"geo\":{\"bgcolor\":\"white\",\"landcolor\":\"#E5ECF6\",\"subunitcolor\":\"white\",\"showland\":true,\"showlakes\":true,\"lakecolor\":\"white\"},\"title\":{\"x\":0.05},\"mapbox\":{\"style\":\"light\"}}},\"width\":1000,\"height\":800,\"title\":{\"text\":\"Number of Social Media Posts by Quarter, 2021-2023\",\"x\":0.5},\"xaxis\":{\"title\":{\"text\":\"Year Quarter\"}},\"yaxis\":{\"title\":{\"text\":\"Count of Posts\"}}},                        {\"responsive\": true}                    ).then(function(){\n",
       "                            \n",
       "var gd = document.getElementById('4d8e8dac-5dd1-4449-bbe3-9c87d57b2c39');\n",
       "var x = new MutationObserver(function (mutations, observer) {{\n",
       "        var display = window.getComputedStyle(gd).display;\n",
       "        if (!display || display === 'none') {{\n",
       "            console.log([gd, 'removed!']);\n",
       "            Plotly.purge(gd);\n",
       "            observer.disconnect();\n",
       "        }}\n",
       "}});\n",
       "\n",
       "// Listen for the removal of the full notebook cells\n",
       "var notebookContainer = gd.closest('#notebook-container');\n",
       "if (notebookContainer) {{\n",
       "    x.observe(notebookContainer, {childList: true});\n",
       "}}\n",
       "\n",
       "// Listen for the clearing of the current output cell\n",
       "var outputEl = gd.closest('.output');\n",
       "if (outputEl) {{\n",
       "    x.observe(outputEl, {childList: true});\n",
       "}}\n",
       "\n",
       "                        })                };                });            </script>        </div>"
      ]
     },
     "metadata": {},
     "output_type": "display_data"
    }
   ],
   "source": [
    "# Query to retrieve data from the database\n",
    "query = \"\"\"\n",
    "    SELECT \n",
    "        TO_CHAR(date_trunc('quarter', \"Date\"), 'YYYY') || 'Q' || \n",
    "        TO_CHAR(date_trunc('quarter', \"Date\"), 'Q') as \"Year-Quarter\", \n",
    "        COUNT(*) as \"num\"\n",
    "    FROM \n",
    "        social \n",
    "    WHERE \n",
    "        TO_CHAR(date_trunc('quarter', \"Date\"), 'yyyy-mm') BETWEEN '2021-03-30' AND '2023-12-30'\n",
    "    GROUP BY \n",
    "        1\n",
    "    ORDER BY \n",
    "        1 ASC;\n",
    "\"\"\"\n",
    "\n",
    "# Fetch data from the database\n",
    "df = pd.read_sql_query(query, engine)\n",
    "\n",
    "# Create a Plotly figure\n",
    "fig = go.Figure()\n",
    "fig.update_layout(width=1000, height=800)\n",
    "\n",
    "# Add a line trace for the number of posts by quarter\n",
    "fig.add_trace(go.Scatter(x=df['Year-Quarter'], y=df['num'], mode='lines', name='Number of Posts', line=dict(color='green')))\n",
    "\n",
    "# Customize layout\n",
    "fig.update_layout(\n",
    "    title='Number of Social Media Posts by Quarter, 2021-2023', \n",
    "    xaxis_title='Year Quarter', \n",
    "    yaxis_title='Count of Posts',\n",
    "    title_x=0.5\n",
    ")\n",
    "\n",
    "# Show the Plotly figure\n",
    "fig.show()\n"
   ]
  },
  {
   "cell_type": "markdown",
   "id": "e8ef5262-5df8-4018-b74f-3e153aa776e7",
   "metadata": {},
   "source": [
    "#### It seems that there's a decrease in social media activity during the transition from the end of one year to the beginning of the next.      This could be due to various factors such as holidays, changes in marketing strategies, or shifts in user behavior"
   ]
  },
  {
   "cell_type": "markdown",
   "id": "5c623a6a-fe40-46c2-b923-2588ca124ae2",
   "metadata": {},
   "source": [
    "&nbsp;\n",
    "&nbsp;"
   ]
  },
  {
   "cell_type": "markdown",
   "id": "43828531-2a24-4b76-8fc8-57d56e591c42",
   "metadata": {},
   "source": [
    "### Social Media Performance by Day of the Week"
   ]
  },
  {
   "cell_type": "code",
   "execution_count": 153,
   "id": "d228a8e4-3898-4763-afd7-a09a1cf4b148",
   "metadata": {},
   "outputs": [
    {
     "data": {
      "text/html": [
       "<div>\n",
       "<style scoped>\n",
       "    .dataframe tbody tr th:only-of-type {\n",
       "        vertical-align: middle;\n",
       "    }\n",
       "\n",
       "    .dataframe tbody tr th {\n",
       "        vertical-align: top;\n",
       "    }\n",
       "\n",
       "    .dataframe thead th {\n",
       "        text-align: right;\n",
       "    }\n",
       "</style>\n",
       "<table border=\"1\" class=\"dataframe\">\n",
       "  <thead>\n",
       "    <tr style=\"text-align: right;\">\n",
       "      <th></th>\n",
       "      <th>day_of_week</th>\n",
       "      <th>Total Impressions</th>\n",
       "      <th>Total reach</th>\n",
       "      <th>Total Engagement</th>\n",
       "    </tr>\n",
       "  </thead>\n",
       "  <tbody>\n",
       "    <tr>\n",
       "      <th>0</th>\n",
       "      <td>Friday</td>\n",
       "      <td>83010139.0</td>\n",
       "      <td>35847435.0</td>\n",
       "      <td>12255125.0</td>\n",
       "    </tr>\n",
       "    <tr>\n",
       "      <th>1</th>\n",
       "      <td>Thursday</td>\n",
       "      <td>82373569.0</td>\n",
       "      <td>35543381.0</td>\n",
       "      <td>12143791.0</td>\n",
       "    </tr>\n",
       "    <tr>\n",
       "      <th>2</th>\n",
       "      <td>Wednesday</td>\n",
       "      <td>82256504.0</td>\n",
       "      <td>35536236.0</td>\n",
       "      <td>12088713.0</td>\n",
       "    </tr>\n",
       "    <tr>\n",
       "      <th>3</th>\n",
       "      <td>Monday</td>\n",
       "      <td>82172587.0</td>\n",
       "      <td>35469632.0</td>\n",
       "      <td>12175928.0</td>\n",
       "    </tr>\n",
       "    <tr>\n",
       "      <th>4</th>\n",
       "      <td>Saturday</td>\n",
       "      <td>82091143.0</td>\n",
       "      <td>35489831.0</td>\n",
       "      <td>12086351.0</td>\n",
       "    </tr>\n",
       "    <tr>\n",
       "      <th>5</th>\n",
       "      <td>Sunday</td>\n",
       "      <td>81757570.0</td>\n",
       "      <td>35364943.0</td>\n",
       "      <td>12073265.0</td>\n",
       "    </tr>\n",
       "    <tr>\n",
       "      <th>6</th>\n",
       "      <td>Tuesday</td>\n",
       "      <td>81605751.0</td>\n",
       "      <td>35396183.0</td>\n",
       "      <td>12098222.0</td>\n",
       "    </tr>\n",
       "  </tbody>\n",
       "</table>\n",
       "</div>"
      ],
      "text/plain": [
       "  day_of_week  Total Impressions  Total reach  Total Engagement\n",
       "0      Friday         83010139.0   35847435.0        12255125.0\n",
       "1    Thursday         82373569.0   35543381.0        12143791.0\n",
       "2   Wednesday         82256504.0   35536236.0        12088713.0\n",
       "3      Monday         82172587.0   35469632.0        12175928.0\n",
       "4    Saturday         82091143.0   35489831.0        12086351.0\n",
       "5      Sunday         81757570.0   35364943.0        12073265.0\n",
       "6     Tuesday         81605751.0   35396183.0        12098222.0"
      ]
     },
     "execution_count": 153,
     "metadata": {},
     "output_type": "execute_result"
    }
   ],
   "source": [
    "pd.read_sql_query(\"\"\"\n",
    "                    select \"day_of_week\", sum(\"Impressions\") as \"Total Impressions\",\n",
    "                    sum(\"Reach\") as \"Total reach\",\n",
    "                    sum(\"Likes\" + \"Comments\" + \"Shares\") as \"Total Engagement\"\n",
    "                    from social\n",
    "                    group by \"day_of_week\"\n",
    "                    order by 2 desc\n",
    "                     \"\"\", engine)"
   ]
  },
  {
   "cell_type": "code",
   "execution_count": 146,
   "id": "845b0ace-5326-4408-8721-91db93fef18e",
   "metadata": {},
   "outputs": [
    {
     "data": {
      "application/vnd.plotly.v1+json": {
       "config": {
        "plotlyServerURL": "https://plot.ly"
       },
       "data": [
        {
         "marker": {
          "color": "green"
         },
         "name": "Total Impressions",
         "type": "bar",
         "x": [
          "Sunday",
          "Monday",
          "Tuesday",
          "Wednesday",
          "Thursday",
          "Friday",
          "Saturday"
         ],
         "y": [
          81757570,
          82172587,
          81605751,
          82256504,
          82373569,
          83010139,
          82091143
         ]
        },
        {
         "marker": {
          "color": "orange"
         },
         "name": "Total reach",
         "type": "bar",
         "x": [
          "Sunday",
          "Monday",
          "Tuesday",
          "Wednesday",
          "Thursday",
          "Friday",
          "Saturday"
         ],
         "y": [
          35364943,
          35469632,
          35396183,
          35536236,
          35543381,
          35847435,
          35489831
         ]
        },
        {
         "marker": {
          "color": "blue"
         },
         "name": "Total Engagement",
         "type": "bar",
         "x": [
          "Sunday",
          "Monday",
          "Tuesday",
          "Wednesday",
          "Thursday",
          "Friday",
          "Saturday"
         ],
         "y": [
          12073265,
          12175928,
          12098222,
          12088713,
          12143791,
          12255125,
          12086351
         ]
        }
       ],
       "layout": {
        "barmode": "group",
        "height": 600,
        "hoverlabel": {
         "bgcolor": "black",
         "font": {
          "color": "white"
         }
        },
        "template": {
         "data": {
          "bar": [
           {
            "error_x": {
             "color": "#2a3f5f"
            },
            "error_y": {
             "color": "#2a3f5f"
            },
            "marker": {
             "line": {
              "color": "#E5ECF6",
              "width": 0.5
             },
             "pattern": {
              "fillmode": "overlay",
              "size": 10,
              "solidity": 0.2
             }
            },
            "type": "bar"
           }
          ],
          "barpolar": [
           {
            "marker": {
             "line": {
              "color": "#E5ECF6",
              "width": 0.5
             },
             "pattern": {
              "fillmode": "overlay",
              "size": 10,
              "solidity": 0.2
             }
            },
            "type": "barpolar"
           }
          ],
          "carpet": [
           {
            "aaxis": {
             "endlinecolor": "#2a3f5f",
             "gridcolor": "white",
             "linecolor": "white",
             "minorgridcolor": "white",
             "startlinecolor": "#2a3f5f"
            },
            "baxis": {
             "endlinecolor": "#2a3f5f",
             "gridcolor": "white",
             "linecolor": "white",
             "minorgridcolor": "white",
             "startlinecolor": "#2a3f5f"
            },
            "type": "carpet"
           }
          ],
          "choropleth": [
           {
            "colorbar": {
             "outlinewidth": 0,
             "ticks": ""
            },
            "type": "choropleth"
           }
          ],
          "contour": [
           {
            "colorbar": {
             "outlinewidth": 0,
             "ticks": ""
            },
            "colorscale": [
             [
              0,
              "#0d0887"
             ],
             [
              0.1111111111111111,
              "#46039f"
             ],
             [
              0.2222222222222222,
              "#7201a8"
             ],
             [
              0.3333333333333333,
              "#9c179e"
             ],
             [
              0.4444444444444444,
              "#bd3786"
             ],
             [
              0.5555555555555556,
              "#d8576b"
             ],
             [
              0.6666666666666666,
              "#ed7953"
             ],
             [
              0.7777777777777778,
              "#fb9f3a"
             ],
             [
              0.8888888888888888,
              "#fdca26"
             ],
             [
              1,
              "#f0f921"
             ]
            ],
            "type": "contour"
           }
          ],
          "contourcarpet": [
           {
            "colorbar": {
             "outlinewidth": 0,
             "ticks": ""
            },
            "type": "contourcarpet"
           }
          ],
          "heatmap": [
           {
            "colorbar": {
             "outlinewidth": 0,
             "ticks": ""
            },
            "colorscale": [
             [
              0,
              "#0d0887"
             ],
             [
              0.1111111111111111,
              "#46039f"
             ],
             [
              0.2222222222222222,
              "#7201a8"
             ],
             [
              0.3333333333333333,
              "#9c179e"
             ],
             [
              0.4444444444444444,
              "#bd3786"
             ],
             [
              0.5555555555555556,
              "#d8576b"
             ],
             [
              0.6666666666666666,
              "#ed7953"
             ],
             [
              0.7777777777777778,
              "#fb9f3a"
             ],
             [
              0.8888888888888888,
              "#fdca26"
             ],
             [
              1,
              "#f0f921"
             ]
            ],
            "type": "heatmap"
           }
          ],
          "heatmapgl": [
           {
            "colorbar": {
             "outlinewidth": 0,
             "ticks": ""
            },
            "colorscale": [
             [
              0,
              "#0d0887"
             ],
             [
              0.1111111111111111,
              "#46039f"
             ],
             [
              0.2222222222222222,
              "#7201a8"
             ],
             [
              0.3333333333333333,
              "#9c179e"
             ],
             [
              0.4444444444444444,
              "#bd3786"
             ],
             [
              0.5555555555555556,
              "#d8576b"
             ],
             [
              0.6666666666666666,
              "#ed7953"
             ],
             [
              0.7777777777777778,
              "#fb9f3a"
             ],
             [
              0.8888888888888888,
              "#fdca26"
             ],
             [
              1,
              "#f0f921"
             ]
            ],
            "type": "heatmapgl"
           }
          ],
          "histogram": [
           {
            "marker": {
             "pattern": {
              "fillmode": "overlay",
              "size": 10,
              "solidity": 0.2
             }
            },
            "type": "histogram"
           }
          ],
          "histogram2d": [
           {
            "colorbar": {
             "outlinewidth": 0,
             "ticks": ""
            },
            "colorscale": [
             [
              0,
              "#0d0887"
             ],
             [
              0.1111111111111111,
              "#46039f"
             ],
             [
              0.2222222222222222,
              "#7201a8"
             ],
             [
              0.3333333333333333,
              "#9c179e"
             ],
             [
              0.4444444444444444,
              "#bd3786"
             ],
             [
              0.5555555555555556,
              "#d8576b"
             ],
             [
              0.6666666666666666,
              "#ed7953"
             ],
             [
              0.7777777777777778,
              "#fb9f3a"
             ],
             [
              0.8888888888888888,
              "#fdca26"
             ],
             [
              1,
              "#f0f921"
             ]
            ],
            "type": "histogram2d"
           }
          ],
          "histogram2dcontour": [
           {
            "colorbar": {
             "outlinewidth": 0,
             "ticks": ""
            },
            "colorscale": [
             [
              0,
              "#0d0887"
             ],
             [
              0.1111111111111111,
              "#46039f"
             ],
             [
              0.2222222222222222,
              "#7201a8"
             ],
             [
              0.3333333333333333,
              "#9c179e"
             ],
             [
              0.4444444444444444,
              "#bd3786"
             ],
             [
              0.5555555555555556,
              "#d8576b"
             ],
             [
              0.6666666666666666,
              "#ed7953"
             ],
             [
              0.7777777777777778,
              "#fb9f3a"
             ],
             [
              0.8888888888888888,
              "#fdca26"
             ],
             [
              1,
              "#f0f921"
             ]
            ],
            "type": "histogram2dcontour"
           }
          ],
          "mesh3d": [
           {
            "colorbar": {
             "outlinewidth": 0,
             "ticks": ""
            },
            "type": "mesh3d"
           }
          ],
          "parcoords": [
           {
            "line": {
             "colorbar": {
              "outlinewidth": 0,
              "ticks": ""
             }
            },
            "type": "parcoords"
           }
          ],
          "pie": [
           {
            "automargin": true,
            "type": "pie"
           }
          ],
          "scatter": [
           {
            "fillpattern": {
             "fillmode": "overlay",
             "size": 10,
             "solidity": 0.2
            },
            "type": "scatter"
           }
          ],
          "scatter3d": [
           {
            "line": {
             "colorbar": {
              "outlinewidth": 0,
              "ticks": ""
             }
            },
            "marker": {
             "colorbar": {
              "outlinewidth": 0,
              "ticks": ""
             }
            },
            "type": "scatter3d"
           }
          ],
          "scattercarpet": [
           {
            "marker": {
             "colorbar": {
              "outlinewidth": 0,
              "ticks": ""
             }
            },
            "type": "scattercarpet"
           }
          ],
          "scattergeo": [
           {
            "marker": {
             "colorbar": {
              "outlinewidth": 0,
              "ticks": ""
             }
            },
            "type": "scattergeo"
           }
          ],
          "scattergl": [
           {
            "marker": {
             "colorbar": {
              "outlinewidth": 0,
              "ticks": ""
             }
            },
            "type": "scattergl"
           }
          ],
          "scattermapbox": [
           {
            "marker": {
             "colorbar": {
              "outlinewidth": 0,
              "ticks": ""
             }
            },
            "type": "scattermapbox"
           }
          ],
          "scatterpolar": [
           {
            "marker": {
             "colorbar": {
              "outlinewidth": 0,
              "ticks": ""
             }
            },
            "type": "scatterpolar"
           }
          ],
          "scatterpolargl": [
           {
            "marker": {
             "colorbar": {
              "outlinewidth": 0,
              "ticks": ""
             }
            },
            "type": "scatterpolargl"
           }
          ],
          "scatterternary": [
           {
            "marker": {
             "colorbar": {
              "outlinewidth": 0,
              "ticks": ""
             }
            },
            "type": "scatterternary"
           }
          ],
          "surface": [
           {
            "colorbar": {
             "outlinewidth": 0,
             "ticks": ""
            },
            "colorscale": [
             [
              0,
              "#0d0887"
             ],
             [
              0.1111111111111111,
              "#46039f"
             ],
             [
              0.2222222222222222,
              "#7201a8"
             ],
             [
              0.3333333333333333,
              "#9c179e"
             ],
             [
              0.4444444444444444,
              "#bd3786"
             ],
             [
              0.5555555555555556,
              "#d8576b"
             ],
             [
              0.6666666666666666,
              "#ed7953"
             ],
             [
              0.7777777777777778,
              "#fb9f3a"
             ],
             [
              0.8888888888888888,
              "#fdca26"
             ],
             [
              1,
              "#f0f921"
             ]
            ],
            "type": "surface"
           }
          ],
          "table": [
           {
            "cells": {
             "fill": {
              "color": "#EBF0F8"
             },
             "line": {
              "color": "white"
             }
            },
            "header": {
             "fill": {
              "color": "#C8D4E3"
             },
             "line": {
              "color": "white"
             }
            },
            "type": "table"
           }
          ]
         },
         "layout": {
          "annotationdefaults": {
           "arrowcolor": "#2a3f5f",
           "arrowhead": 0,
           "arrowwidth": 1
          },
          "autotypenumbers": "strict",
          "coloraxis": {
           "colorbar": {
            "outlinewidth": 0,
            "ticks": ""
           }
          },
          "colorscale": {
           "diverging": [
            [
             0,
             "#8e0152"
            ],
            [
             0.1,
             "#c51b7d"
            ],
            [
             0.2,
             "#de77ae"
            ],
            [
             0.3,
             "#f1b6da"
            ],
            [
             0.4,
             "#fde0ef"
            ],
            [
             0.5,
             "#f7f7f7"
            ],
            [
             0.6,
             "#e6f5d0"
            ],
            [
             0.7,
             "#b8e186"
            ],
            [
             0.8,
             "#7fbc41"
            ],
            [
             0.9,
             "#4d9221"
            ],
            [
             1,
             "#276419"
            ]
           ],
           "sequential": [
            [
             0,
             "#0d0887"
            ],
            [
             0.1111111111111111,
             "#46039f"
            ],
            [
             0.2222222222222222,
             "#7201a8"
            ],
            [
             0.3333333333333333,
             "#9c179e"
            ],
            [
             0.4444444444444444,
             "#bd3786"
            ],
            [
             0.5555555555555556,
             "#d8576b"
            ],
            [
             0.6666666666666666,
             "#ed7953"
            ],
            [
             0.7777777777777778,
             "#fb9f3a"
            ],
            [
             0.8888888888888888,
             "#fdca26"
            ],
            [
             1,
             "#f0f921"
            ]
           ],
           "sequentialminus": [
            [
             0,
             "#0d0887"
            ],
            [
             0.1111111111111111,
             "#46039f"
            ],
            [
             0.2222222222222222,
             "#7201a8"
            ],
            [
             0.3333333333333333,
             "#9c179e"
            ],
            [
             0.4444444444444444,
             "#bd3786"
            ],
            [
             0.5555555555555556,
             "#d8576b"
            ],
            [
             0.6666666666666666,
             "#ed7953"
            ],
            [
             0.7777777777777778,
             "#fb9f3a"
            ],
            [
             0.8888888888888888,
             "#fdca26"
            ],
            [
             1,
             "#f0f921"
            ]
           ]
          },
          "colorway": [
           "#636efa",
           "#EF553B",
           "#00cc96",
           "#ab63fa",
           "#FFA15A",
           "#19d3f3",
           "#FF6692",
           "#B6E880",
           "#FF97FF",
           "#FECB52"
          ],
          "font": {
           "color": "#2a3f5f"
          },
          "geo": {
           "bgcolor": "white",
           "lakecolor": "white",
           "landcolor": "#E5ECF6",
           "showlakes": true,
           "showland": true,
           "subunitcolor": "white"
          },
          "hoverlabel": {
           "align": "left"
          },
          "hovermode": "closest",
          "mapbox": {
           "style": "light"
          },
          "paper_bgcolor": "white",
          "plot_bgcolor": "#E5ECF6",
          "polar": {
           "angularaxis": {
            "gridcolor": "white",
            "linecolor": "white",
            "ticks": ""
           },
           "bgcolor": "#E5ECF6",
           "radialaxis": {
            "gridcolor": "white",
            "linecolor": "white",
            "ticks": ""
           }
          },
          "scene": {
           "xaxis": {
            "backgroundcolor": "#E5ECF6",
            "gridcolor": "white",
            "gridwidth": 2,
            "linecolor": "white",
            "showbackground": true,
            "ticks": "",
            "zerolinecolor": "white"
           },
           "yaxis": {
            "backgroundcolor": "#E5ECF6",
            "gridcolor": "white",
            "gridwidth": 2,
            "linecolor": "white",
            "showbackground": true,
            "ticks": "",
            "zerolinecolor": "white"
           },
           "zaxis": {
            "backgroundcolor": "#E5ECF6",
            "gridcolor": "white",
            "gridwidth": 2,
            "linecolor": "white",
            "showbackground": true,
            "ticks": "",
            "zerolinecolor": "white"
           }
          },
          "shapedefaults": {
           "line": {
            "color": "#2a3f5f"
           }
          },
          "ternary": {
           "aaxis": {
            "gridcolor": "white",
            "linecolor": "white",
            "ticks": ""
           },
           "baxis": {
            "gridcolor": "white",
            "linecolor": "white",
            "ticks": ""
           },
           "bgcolor": "#E5ECF6",
           "caxis": {
            "gridcolor": "white",
            "linecolor": "white",
            "ticks": ""
           }
          },
          "title": {
           "x": 0.05
          },
          "xaxis": {
           "automargin": true,
           "gridcolor": "white",
           "linecolor": "white",
           "ticks": "",
           "title": {
            "standoff": 15
           },
           "zerolinecolor": "white",
           "zerolinewidth": 2
          },
          "yaxis": {
           "automargin": true,
           "gridcolor": "white",
           "linecolor": "white",
           "ticks": "",
           "title": {
            "standoff": 15
           },
           "zerolinecolor": "white",
           "zerolinewidth": 2
          }
         }
        },
        "title": {
         "text": "Social Media Performance by Day of the Week",
         "x": 0.5
        },
        "width": 1000,
        "xaxis": {
         "autorange": true,
         "range": [
          -0.5,
          6.5
         ],
         "title": {
          "text": "Day of week"
         },
         "type": "category"
        },
        "yaxis": {
         "autorange": true,
         "range": [
          0,
          87379093.68421052
         ],
         "title": {
          "text": "count"
         },
         "type": "linear"
        }
       }
      },
      "image/png": "[encoded data removed]",
      "text/html": [
       "<div>                            <div id=\"cd68572d-4554-43ef-83f7-dd6823250849\" class=\"plotly-graph-div\" style=\"height:600px; width:1000px;\"></div>            <script type=\"text/javascript\">                require([\"plotly\"], function(Plotly) {                    window.PLOTLYENV=window.PLOTLYENV || {};                                    if (document.getElementById(\"cd68572d-4554-43ef-83f7-dd6823250849\")) {                    Plotly.newPlot(                        \"cd68572d-4554-43ef-83f7-dd6823250849\",                        [{\"marker\":{\"color\":\"green\"},\"name\":\"Total Impressions\",\"x\":[\"Sunday\",\"Monday\",\"Tuesday\",\"Wednesday\",\"Thursday\",\"Friday\",\"Saturday\"],\"y\":[81757570.0,82172587.0,81605751.0,82256504.0,82373569.0,83010139.0,82091143.0],\"type\":\"bar\"},{\"marker\":{\"color\":\"orange\"},\"name\":\"Total reach\",\"x\":[\"Sunday\",\"Monday\",\"Tuesday\",\"Wednesday\",\"Thursday\",\"Friday\",\"Saturday\"],\"y\":[35364943.0,35469632.0,35396183.0,35536236.0,35543381.0,35847435.0,35489831.0],\"type\":\"bar\"},{\"marker\":{\"color\":\"blue\"},\"name\":\"Total Engagement\",\"x\":[\"Sunday\",\"Monday\",\"Tuesday\",\"Wednesday\",\"Thursday\",\"Friday\",\"Saturday\"],\"y\":[12073265.0,12175928.0,12098222.0,12088713.0,12143791.0,12255125.0,12086351.0],\"type\":\"bar\"}],                        {\"template\":{\"data\":{\"histogram2dcontour\":[{\"type\":\"histogram2dcontour\",\"colorbar\":{\"outlinewidth\":0,\"ticks\":\"\"},\"colorscale\":[[0.0,\"#0d0887\"],[0.1111111111111111,\"#46039f\"],[0.2222222222222222,\"#7201a8\"],[0.3333333333333333,\"#9c179e\"],[0.4444444444444444,\"#bd3786\"],[0.5555555555555556,\"#d8576b\"],[0.6666666666666666,\"#ed7953\"],[0.7777777777777778,\"#fb9f3a\"],[0.8888888888888888,\"#fdca26\"],[1.0,\"#f0f921\"]]}],\"choropleth\":[{\"type\":\"choropleth\",\"colorbar\":{\"outlinewidth\":0,\"ticks\":\"\"}}],\"histogram2d\":[{\"type\":\"histogram2d\",\"colorbar\":{\"outlinewidth\":0,\"ticks\":\"\"},\"colorscale\":[[0.0,\"#0d0887\"],[0.1111111111111111,\"#46039f\"],[0.2222222222222222,\"#7201a8\"],[0.3333333333333333,\"#9c179e\"],[0.4444444444444444,\"#bd3786\"],[0.5555555555555556,\"#d8576b\"],[0.6666666666666666,\"#ed7953\"],[0.7777777777777778,\"#fb9f3a\"],[0.8888888888888888,\"#fdca26\"],[1.0,\"#f0f921\"]]}],\"heatmap\":[{\"type\":\"heatmap\",\"colorbar\":{\"outlinewidth\":0,\"ticks\":\"\"},\"colorscale\":[[0.0,\"#0d0887\"],[0.1111111111111111,\"#46039f\"],[0.2222222222222222,\"#7201a8\"],[0.3333333333333333,\"#9c179e\"],[0.4444444444444444,\"#bd3786\"],[0.5555555555555556,\"#d8576b\"],[0.6666666666666666,\"#ed7953\"],[0.7777777777777778,\"#fb9f3a\"],[0.8888888888888888,\"#fdca26\"],[1.0,\"#f0f921\"]]}],\"heatmapgl\":[{\"type\":\"heatmapgl\",\"colorbar\":{\"outlinewidth\":0,\"ticks\":\"\"},\"colorscale\":[[0.0,\"#0d0887\"],[0.1111111111111111,\"#46039f\"],[0.2222222222222222,\"#7201a8\"],[0.3333333333333333,\"#9c179e\"],[0.4444444444444444,\"#bd3786\"],[0.5555555555555556,\"#d8576b\"],[0.6666666666666666,\"#ed7953\"],[0.7777777777777778,\"#fb9f3a\"],[0.8888888888888888,\"#fdca26\"],[1.0,\"#f0f921\"]]}],\"contourcarpet\":[{\"type\":\"contourcarpet\",\"colorbar\":{\"outlinewidth\":0,\"ticks\":\"\"}}],\"contour\":[{\"type\":\"contour\",\"colorbar\":{\"outlinewidth\":0,\"ticks\":\"\"},\"colorscale\":[[0.0,\"#0d0887\"],[0.1111111111111111,\"#46039f\"],[0.2222222222222222,\"#7201a8\"],[0.3333333333333333,\"#9c179e\"],[0.4444444444444444,\"#bd3786\"],[0.5555555555555556,\"#d8576b\"],[0.6666666666666666,\"#ed7953\"],[0.7777777777777778,\"#fb9f3a\"],[0.8888888888888888,\"#fdca26\"],[1.0,\"#f0f921\"]]}],\"surface\":[{\"type\":\"surface\",\"colorbar\":{\"outlinewidth\":0,\"ticks\":\"\"},\"colorscale\":[[0.0,\"#0d0887\"],[0.1111111111111111,\"#46039f\"],[0.2222222222222222,\"#7201a8\"],[0.3333333333333333,\"#9c179e\"],[0.4444444444444444,\"#bd3786\"],[0.5555555555555556,\"#d8576b\"],[0.6666666666666666,\"#ed7953\"],[0.7777777777777778,\"#fb9f3a\"],[0.8888888888888888,\"#fdca26\"],[1.0,\"#f0f921\"]]}],\"mesh3d\":[{\"type\":\"mesh3d\",\"colorbar\":{\"outlinewidth\":0,\"ticks\":\"\"}}],\"scatter\":[{\"fillpattern\":{\"fillmode\":\"overlay\",\"size\":10,\"solidity\":0.2},\"type\":\"scatter\"}],\"parcoords\":[{\"type\":\"parcoords\",\"line\":{\"colorbar\":{\"outlinewidth\":0,\"ticks\":\"\"}}}],\"scatterpolargl\":[{\"type\":\"scatterpolargl\",\"marker\":{\"colorbar\":{\"outlinewidth\":0,\"ticks\":\"\"}}}],\"bar\":[{\"error_x\":{\"color\":\"#2a3f5f\"},\"error_y\":{\"color\":\"#2a3f5f\"},\"marker\":{\"line\":{\"color\":\"#E5ECF6\",\"width\":0.5},\"pattern\":{\"fillmode\":\"overlay\",\"size\":10,\"solidity\":0.2}},\"type\":\"bar\"}],\"scattergeo\":[{\"type\":\"scattergeo\",\"marker\":{\"colorbar\":{\"outlinewidth\":0,\"ticks\":\"\"}}}],\"scatterpolar\":[{\"type\":\"scatterpolar\",\"marker\":{\"colorbar\":{\"outlinewidth\":0,\"ticks\":\"\"}}}],\"histogram\":[{\"marker\":{\"pattern\":{\"fillmode\":\"overlay\",\"size\":10,\"solidity\":0.2}},\"type\":\"histogram\"}],\"scattergl\":[{\"type\":\"scattergl\",\"marker\":{\"colorbar\":{\"outlinewidth\":0,\"ticks\":\"\"}}}],\"scatter3d\":[{\"type\":\"scatter3d\",\"line\":{\"colorbar\":{\"outlinewidth\":0,\"ticks\":\"\"}},\"marker\":{\"colorbar\":{\"outlinewidth\":0,\"ticks\":\"\"}}}],\"scattermapbox\":[{\"type\":\"scattermapbox\",\"marker\":{\"colorbar\":{\"outlinewidth\":0,\"ticks\":\"\"}}}],\"scatterternary\":[{\"type\":\"scatterternary\",\"marker\":{\"colorbar\":{\"outlinewidth\":0,\"ticks\":\"\"}}}],\"scattercarpet\":[{\"type\":\"scattercarpet\",\"marker\":{\"colorbar\":{\"outlinewidth\":0,\"ticks\":\"\"}}}],\"carpet\":[{\"aaxis\":{\"endlinecolor\":\"#2a3f5f\",\"gridcolor\":\"white\",\"linecolor\":\"white\",\"minorgridcolor\":\"white\",\"startlinecolor\":\"#2a3f5f\"},\"baxis\":{\"endlinecolor\":\"#2a3f5f\",\"gridcolor\":\"white\",\"linecolor\":\"white\",\"minorgridcolor\":\"white\",\"startlinecolor\":\"#2a3f5f\"},\"type\":\"carpet\"}],\"table\":[{\"cells\":{\"fill\":{\"color\":\"#EBF0F8\"},\"line\":{\"color\":\"white\"}},\"header\":{\"fill\":{\"color\":\"#C8D4E3\"},\"line\":{\"color\":\"white\"}},\"type\":\"table\"}],\"barpolar\":[{\"marker\":{\"line\":{\"color\":\"#E5ECF6\",\"width\":0.5},\"pattern\":{\"fillmode\":\"overlay\",\"size\":10,\"solidity\":0.2}},\"type\":\"barpolar\"}],\"pie\":[{\"automargin\":true,\"type\":\"pie\"}]},\"layout\":{\"autotypenumbers\":\"strict\",\"colorway\":[\"#636efa\",\"#EF553B\",\"#00cc96\",\"#ab63fa\",\"#FFA15A\",\"#19d3f3\",\"#FF6692\",\"#B6E880\",\"#FF97FF\",\"#FECB52\"],\"font\":{\"color\":\"#2a3f5f\"},\"hovermode\":\"closest\",\"hoverlabel\":{\"align\":\"left\"},\"paper_bgcolor\":\"white\",\"plot_bgcolor\":\"#E5ECF6\",\"polar\":{\"bgcolor\":\"#E5ECF6\",\"angularaxis\":{\"gridcolor\":\"white\",\"linecolor\":\"white\",\"ticks\":\"\"},\"radialaxis\":{\"gridcolor\":\"white\",\"linecolor\":\"white\",\"ticks\":\"\"}},\"ternary\":{\"bgcolor\":\"#E5ECF6\",\"aaxis\":{\"gridcolor\":\"white\",\"linecolor\":\"white\",\"ticks\":\"\"},\"baxis\":{\"gridcolor\":\"white\",\"linecolor\":\"white\",\"ticks\":\"\"},\"caxis\":{\"gridcolor\":\"white\",\"linecolor\":\"white\",\"ticks\":\"\"}},\"coloraxis\":{\"colorbar\":{\"outlinewidth\":0,\"ticks\":\"\"}},\"colorscale\":{\"sequential\":[[0.0,\"#0d0887\"],[0.1111111111111111,\"#46039f\"],[0.2222222222222222,\"#7201a8\"],[0.3333333333333333,\"#9c179e\"],[0.4444444444444444,\"#bd3786\"],[0.5555555555555556,\"#d8576b\"],[0.6666666666666666,\"#ed7953\"],[0.7777777777777778,\"#fb9f3a\"],[0.8888888888888888,\"#fdca26\"],[1.0,\"#f0f921\"]],\"sequentialminus\":[[0.0,\"#0d0887\"],[0.1111111111111111,\"#46039f\"],[0.2222222222222222,\"#7201a8\"],[0.3333333333333333,\"#9c179e\"],[0.4444444444444444,\"#bd3786\"],[0.5555555555555556,\"#d8576b\"],[0.6666666666666666,\"#ed7953\"],[0.7777777777777778,\"#fb9f3a\"],[0.8888888888888888,\"#fdca26\"],[1.0,\"#f0f921\"]],\"diverging\":[[0,\"#8e0152\"],[0.1,\"#c51b7d\"],[0.2,\"#de77ae\"],[0.3,\"#f1b6da\"],[0.4,\"#fde0ef\"],[0.5,\"#f7f7f7\"],[0.6,\"#e6f5d0\"],[0.7,\"#b8e186\"],[0.8,\"#7fbc41\"],[0.9,\"#4d9221\"],[1,\"#276419\"]]},\"xaxis\":{\"gridcolor\":\"white\",\"linecolor\":\"white\",\"ticks\":\"\",\"title\":{\"standoff\":15},\"zerolinecolor\":\"white\",\"automargin\":true,\"zerolinewidth\":2},\"yaxis\":{\"gridcolor\":\"white\",\"linecolor\":\"white\",\"ticks\":\"\",\"title\":{\"standoff\":15},\"zerolinecolor\":\"white\",\"automargin\":true,\"zerolinewidth\":2},\"scene\":{\"xaxis\":{\"backgroundcolor\":\"#E5ECF6\",\"gridcolor\":\"white\",\"linecolor\":\"white\",\"showbackground\":true,\"ticks\":\"\",\"zerolinecolor\":\"white\",\"gridwidth\":2},\"yaxis\":{\"backgroundcolor\":\"#E5ECF6\",\"gridcolor\":\"white\",\"linecolor\":\"white\",\"showbackground\":true,\"ticks\":\"\",\"zerolinecolor\":\"white\",\"gridwidth\":2},\"zaxis\":{\"backgroundcolor\":\"#E5ECF6\",\"gridcolor\":\"white\",\"linecolor\":\"white\",\"showbackground\":true,\"ticks\":\"\",\"zerolinecolor\":\"white\",\"gridwidth\":2}},\"shapedefaults\":{\"line\":{\"color\":\"#2a3f5f\"}},\"annotationdefaults\":{\"arrowcolor\":\"#2a3f5f\",\"arrowhead\":0,\"arrowwidth\":1},\"geo\":{\"bgcolor\":\"white\",\"landcolor\":\"#E5ECF6\",\"subunitcolor\":\"white\",\"showland\":true,\"showlakes\":true,\"lakecolor\":\"white\"},\"title\":{\"x\":0.05},\"mapbox\":{\"style\":\"light\"}}},\"width\":1000,\"height\":600,\"title\":{\"text\":\"Social Media Performance by Day of the Week\",\"x\":0.5},\"hoverlabel\":{\"font\":{\"color\":\"white\"},\"bgcolor\":\"black\"},\"barmode\":\"group\",\"xaxis\":{\"title\":{\"text\":\"Day of week\"}},\"yaxis\":{\"title\":{\"text\":\"count\"}}},                        {\"responsive\": true}                    ).then(function(){\n",
       "                            \n",
       "var gd = document.getElementById('cd68572d-4554-43ef-83f7-dd6823250849');\n",
       "var x = new MutationObserver(function (mutations, observer) {{\n",
       "        var display = window.getComputedStyle(gd).display;\n",
       "        if (!display || display === 'none') {{\n",
       "            console.log([gd, 'removed!']);\n",
       "            Plotly.purge(gd);\n",
       "            observer.disconnect();\n",
       "        }}\n",
       "}});\n",
       "\n",
       "// Listen for the removal of the full notebook cells\n",
       "var notebookContainer = gd.closest('#notebook-container');\n",
       "if (notebookContainer) {{\n",
       "    x.observe(notebookContainer, {childList: true});\n",
       "}}\n",
       "\n",
       "// Listen for the clearing of the current output cell\n",
       "var outputEl = gd.closest('.output');\n",
       "if (outputEl) {{\n",
       "    x.observe(outputEl, {childList: true});\n",
       "}}\n",
       "\n",
       "                        })                };                });            </script>        </div>"
      ]
     },
     "metadata": {},
     "output_type": "display_data"
    }
   ],
   "source": [
    "query = \"\"\"\n",
    "            SELECT \"day_of_week\", \n",
    "            SUM(\"Impressions\") as \"Total Impressions\",\n",
    "            SUM(\"Reach\") as \"Total reach\",\n",
    "            SUM(\"Likes\" + \"Comments\" + \"Shares\") as \"Total Engagement\"\n",
    "        FROM social\n",
    "        GROUP BY \"day_of_week\"\n",
    "        ORDER BY \n",
    "            CASE \"day_of_week\"\n",
    "                WHEN 'Sunday' THEN 1\n",
    "                WHEN 'Monday' THEN 2\n",
    "                WHEN 'Tuesday' THEN 3\n",
    "                WHEN 'Wednesday' THEN 4\n",
    "                WHEN 'Thursday' THEN 5\n",
    "                WHEN 'Friday' THEN 6\n",
    "                WHEN 'Saturday' THEN 7\n",
    "            END;\n",
    "                    \"\"\"\n",
    "\n",
    "df = pd.read_sql_query(query, engine)\n",
    "\n",
    "fig = go.Figure()\n",
    "fig.update_layout(width=1000, height=600)\n",
    "fig.add_trace(go.Bar\n",
    "              (x=df['day_of_week'], \n",
    "               y=df['Total Impressions'] , \n",
    "               name='Total Impressions' , \n",
    "               marker_color= 'green'\n",
    "              ))\n",
    "\n",
    "fig.add_trace(go.Bar\n",
    "              (x=df['day_of_week'], \n",
    "               y=df['Total reach'] , \n",
    "               name='Total reach' , \n",
    "               marker_color= 'orange'))\n",
    "\n",
    "fig.add_trace(go.Bar\n",
    "              (x=df['day_of_week'], \n",
    "               y=df['Total Engagement'] , \n",
    "               name='Total Engagement' , \n",
    "               marker_color= 'blue'))\n",
    "\n",
    "fig.update_layout(\n",
    "    title='Social Media Performance by Day of the Week' ,\n",
    "    barmode='group',\n",
    "    xaxis_title='Day of week',\n",
    "    yaxis_title='count',\n",
    "    title_x = 0.5 ,\n",
    "    hoverlabel=dict(bgcolor=\"black\", font=dict(color=\"white\"))\n",
    ")\n",
    "\n",
    "fig.show()\n",
    "\n"
   ]
  },
  {
   "cell_type": "markdown",
   "id": "702832d9-4f6c-4fec-8972-e30c20223e67",
   "metadata": {},
   "source": [
    "####  It indicates that Friday has the highest total impressions and reach followed closely by Thursday and Wednesday. This suggests that content posted on Fridays tends to perform better in terms of visibility and reach compared to other days of the week."
   ]
  },
  {
   "cell_type": "markdown",
   "id": "01c261be-6403-44f7-b3ef-0ad2157de4d5",
   "metadata": {},
   "source": [
    "&nbsp;\n",
    "&nbsp;\n"
   ]
  },
  {
   "cell_type": "markdown",
   "id": "6bc79a50-339d-4289-894e-7427cb4efac3",
   "metadata": {},
   "source": [
    "&nbsp;\n",
    "&nbsp;\n"
   ]
  },
  {
   "cell_type": "code",
   "execution_count": 152,
   "id": "c0266b2c-1797-47e2-9258-65406aad7d8b",
   "metadata": {},
   "outputs": [
    {
     "data": {
      "text/html": [
       "<div>\n",
       "<style scoped>\n",
       "    .dataframe tbody tr th:only-of-type {\n",
       "        vertical-align: middle;\n",
       "    }\n",
       "\n",
       "    .dataframe tbody tr th {\n",
       "        vertical-align: top;\n",
       "    }\n",
       "\n",
       "    .dataframe thead th {\n",
       "        text-align: right;\n",
       "    }\n",
       "</style>\n",
       "<table border=\"1\" class=\"dataframe\">\n",
       "  <thead>\n",
       "    <tr style=\"text-align: right;\">\n",
       "      <th></th>\n",
       "      <th>Audience Gender</th>\n",
       "      <th>Total Impression</th>\n",
       "      <th>Total Reach</th>\n",
       "      <th>Total Engagement</th>\n",
       "    </tr>\n",
       "  </thead>\n",
       "  <tbody>\n",
       "    <tr>\n",
       "      <th>0</th>\n",
       "      <td>Male</td>\n",
       "      <td>192357620.0</td>\n",
       "      <td>83137151.0</td>\n",
       "      <td>28425909.0</td>\n",
       "    </tr>\n",
       "    <tr>\n",
       "      <th>1</th>\n",
       "      <td>Female</td>\n",
       "      <td>192732946.0</td>\n",
       "      <td>83250532.0</td>\n",
       "      <td>28278695.0</td>\n",
       "    </tr>\n",
       "    <tr>\n",
       "      <th>2</th>\n",
       "      <td>Other</td>\n",
       "      <td>190176697.0</td>\n",
       "      <td>82259958.0</td>\n",
       "      <td>28216791.0</td>\n",
       "    </tr>\n",
       "  </tbody>\n",
       "</table>\n",
       "</div>"
      ],
      "text/plain": [
       "  Audience Gender  Total Impression  Total Reach  Total Engagement\n",
       "0            Male       192357620.0   83137151.0        28425909.0\n",
       "1          Female       192732946.0   83250532.0        28278695.0\n",
       "2           Other       190176697.0   82259958.0        28216791.0"
      ]
     },
     "execution_count": 152,
     "metadata": {},
     "output_type": "execute_result"
    }
   ],
   "source": [
    "pd.read_sql_query( \"\"\"\n",
    "            select \"Audience Gender\" , sum(\"Impressions\") as \"Total Impression\", sum(\"Reach\") as \"Total Reach\" , \n",
    "            sum(\"Likes\" + \"Comments\" + \"Shares\") as \"Total Engagement\"\n",
    "            from social\n",
    "            group by 1\n",
    "            order by 4 desc\n",
    "            \"\"\", engine\n",
    "                 )"
   ]
  },
  {
   "cell_type": "markdown",
   "id": "5cc6ebfb-86c9-4e54-90d8-591fa6921ed9",
   "metadata": {},
   "source": [
    "#### Results shows that female are the one who get served most of post also they are the most numbers of new  users , but when it comes to engagement 'Male' do highest interaction with post ."
   ]
  },
  {
   "cell_type": "markdown",
   "id": "5a8a885e-d4d5-46a1-9a86-7074188dcbeb",
   "metadata": {},
   "source": [
    "&nbsp;\n",
    "&nbsp;"
   ]
  },
  {
   "cell_type": "markdown",
   "id": "02601d9f-464f-4688-9389-1c60fbc3edb2",
   "metadata": {},
   "source": [
    "&nbsp;\n",
    "&nbsp;"
   ]
  },
  {
   "cell_type": "code",
   "execution_count": 179,
   "id": "06c2a75f-ba3c-402e-b1ca-96c3334c2a04",
   "metadata": {},
   "outputs": [
    {
     "data": {
      "image/png": "[encoded data removed]",
      "text/plain": [
       "<Figure size 600x600 with 1 Axes>"
      ]
     },
     "metadata": {},
     "output_type": "display_data"
    }
   ],
   "source": [
    "query = \"\"\"\n",
    "            select  \"Sentiment\", \n",
    "            count(*) as \"Count of Sentiment\"\n",
    "           from social\n",
    "           group by 1\n",
    "           \"\"\"\n",
    "df = pd.read_sql_query(query, engine)\n",
    "plt.figure(figsize=(6, 6))\n",
    "plt.pie(df['Count of Sentiment'], labels=df['Sentiment'], autopct='%1.2f%%', startangle=120)\n",
    "plt.title('Sentiment Distribution')\n",
    "plt.axis('equal')\n",
    "plt.show()"
   ]
  },
  {
   "cell_type": "markdown",
   "id": "3cd61911-d088-4192-9a32-135dd8ead913",
   "metadata": {},
   "source": [
    "&nbsp;\n",
    "&nbsp;"
   ]
  },
  {
   "cell_type": "code",
   "execution_count": 208,
   "id": "1d9818dc-27c1-49a9-91b4-3a4de5b4786b",
   "metadata": {},
   "outputs": [
    {
     "data": {
      "text/html": [
       "<div>\n",
       "<style scoped>\n",
       "    .dataframe tbody tr th:only-of-type {\n",
       "        vertical-align: middle;\n",
       "    }\n",
       "\n",
       "    .dataframe tbody tr th {\n",
       "        vertical-align: top;\n",
       "    }\n",
       "\n",
       "    .dataframe thead th {\n",
       "        text-align: right;\n",
       "    }\n",
       "</style>\n",
       "<table border=\"1\" class=\"dataframe\">\n",
       "  <thead>\n",
       "    <tr style=\"text-align: right;\">\n",
       "      <th></th>\n",
       "      <th>Audience Location</th>\n",
       "      <th>Total engagement</th>\n",
       "      <th>Total reach</th>\n",
       "      <th>Total impressions</th>\n",
       "    </tr>\n",
       "  </thead>\n",
       "  <tbody>\n",
       "    <tr>\n",
       "      <th>0</th>\n",
       "      <td>Korea</td>\n",
       "      <td>674283.0</td>\n",
       "      <td>2039032.0</td>\n",
       "      <td>4825991.0</td>\n",
       "    </tr>\n",
       "    <tr>\n",
       "      <th>1</th>\n",
       "      <td>Congo</td>\n",
       "      <td>659889.0</td>\n",
       "      <td>1963739.0</td>\n",
       "      <td>4472015.0</td>\n",
       "    </tr>\n",
       "    <tr>\n",
       "      <th>2</th>\n",
       "      <td>Uzbekistan</td>\n",
       "      <td>391341.0</td>\n",
       "      <td>1134145.0</td>\n",
       "      <td>2705185.0</td>\n",
       "    </tr>\n",
       "    <tr>\n",
       "      <th>3</th>\n",
       "      <td>Dominica</td>\n",
       "      <td>371649.0</td>\n",
       "      <td>1175462.0</td>\n",
       "      <td>2679669.0</td>\n",
       "    </tr>\n",
       "    <tr>\n",
       "      <th>4</th>\n",
       "      <td>Bouvet Island (Bouvetoya)</td>\n",
       "      <td>393559.0</td>\n",
       "      <td>1122732.0</td>\n",
       "      <td>2647697.0</td>\n",
       "    </tr>\n",
       "  </tbody>\n",
       "</table>\n",
       "</div>"
      ],
      "text/plain": [
       "           Audience Location  Total engagement  Total reach  Total impressions\n",
       "0                      Korea          674283.0    2039032.0          4825991.0\n",
       "1                      Congo          659889.0    1963739.0          4472015.0\n",
       "2                 Uzbekistan          391341.0    1134145.0          2705185.0\n",
       "3                   Dominica          371649.0    1175462.0          2679669.0\n",
       "4  Bouvet Island (Bouvetoya)          393559.0    1122732.0          2647697.0"
      ]
     },
     "execution_count": 208,
     "metadata": {},
     "output_type": "execute_result"
    }
   ],
   "source": [
    "pd.read_sql_query(\"\"\"\n",
    "                 select \"Audience Location\", sum(\"Likes\" + \"Comments\" + \"Shares\") as \"Total engagement\" ,\n",
    "                sum(\"Reach\") as \"Total reach\" ,\n",
    "                sum(\"Impressions\") as \"Total impressions\"\n",
    "                from social\n",
    "                group by 1\n",
    "                order by 4 desc\n",
    "                limit 5\"\"\",\n",
    "                  engine)"
   ]
  },
  {
   "cell_type": "markdown",
   "id": "f0308934-5e42-4ede-857b-eb1e05486626",
   "metadata": {},
   "source": [
    "##### It appears that \"Korea\" is the top-performing country in terms of total engagement, total reach, and total impressions. This suggests that content targeting the audience in Korea has performed exceptionally well compared to other countries."
   ]
  },
  {
   "cell_type": "markdown",
   "id": "08110a2c-d570-41af-bc07-1ca673c2cfd7",
   "metadata": {},
   "source": [
    "&nbsp;\n",
    "&nbsp;"
   ]
  },
  {
   "cell_type": "code",
   "execution_count": 193,
   "id": "bb08f068-a31a-4f83-af8f-a5c6bd999bb7",
   "metadata": {},
   "outputs": [
    {
     "data": {
      "text/html": [
       "<div>\n",
       "<style scoped>\n",
       "    .dataframe tbody tr th:only-of-type {\n",
       "        vertical-align: middle;\n",
       "    }\n",
       "\n",
       "    .dataframe tbody tr th {\n",
       "        vertical-align: top;\n",
       "    }\n",
       "\n",
       "    .dataframe thead th {\n",
       "        text-align: right;\n",
       "    }\n",
       "</style>\n",
       "<table border=\"1\" class=\"dataframe\">\n",
       "  <thead>\n",
       "    <tr style=\"text-align: right;\">\n",
       "      <th></th>\n",
       "      <th>Audience Continent</th>\n",
       "      <th>Total Engagement</th>\n",
       "      <th>Total Reach</th>\n",
       "      <th>Total Impressions</th>\n",
       "    </tr>\n",
       "  </thead>\n",
       "  <tbody>\n",
       "    <tr>\n",
       "      <th>0</th>\n",
       "      <td>Africa</td>\n",
       "      <td>20737660.0</td>\n",
       "      <td>60946192.0</td>\n",
       "      <td>140210539.0</td>\n",
       "    </tr>\n",
       "    <tr>\n",
       "      <th>1</th>\n",
       "      <td>Europe</td>\n",
       "      <td>17362207.0</td>\n",
       "      <td>50451673.0</td>\n",
       "      <td>117679939.0</td>\n",
       "    </tr>\n",
       "    <tr>\n",
       "      <th>2</th>\n",
       "      <td>Asia</td>\n",
       "      <td>17261122.0</td>\n",
       "      <td>50817503.0</td>\n",
       "      <td>117259885.0</td>\n",
       "    </tr>\n",
       "    <tr>\n",
       "      <th>3</th>\n",
       "      <td>NorthAmerica</td>\n",
       "      <td>13428113.0</td>\n",
       "      <td>39648814.0</td>\n",
       "      <td>91459772.0</td>\n",
       "    </tr>\n",
       "    <tr>\n",
       "      <th>4</th>\n",
       "      <td>Oceania</td>\n",
       "      <td>10086182.0</td>\n",
       "      <td>29268766.0</td>\n",
       "      <td>67897855.0</td>\n",
       "    </tr>\n",
       "    <tr>\n",
       "      <th>5</th>\n",
       "      <td>SouthAmerica</td>\n",
       "      <td>5297161.0</td>\n",
       "      <td>15300222.0</td>\n",
       "      <td>35767247.0</td>\n",
       "    </tr>\n",
       "    <tr>\n",
       "      <th>6</th>\n",
       "      <td>Antarctica</td>\n",
       "      <td>748950.0</td>\n",
       "      <td>2214471.0</td>\n",
       "      <td>4992026.0</td>\n",
       "    </tr>\n",
       "  </tbody>\n",
       "</table>\n",
       "</div>"
      ],
      "text/plain": [
       "  Audience Continent  Total Engagement  Total Reach  Total Impressions\n",
       "0             Africa        20737660.0   60946192.0        140210539.0\n",
       "1             Europe        17362207.0   50451673.0        117679939.0\n",
       "2               Asia        17261122.0   50817503.0        117259885.0\n",
       "3       NorthAmerica        13428113.0   39648814.0         91459772.0\n",
       "4            Oceania        10086182.0   29268766.0         67897855.0\n",
       "5       SouthAmerica         5297161.0   15300222.0         35767247.0\n",
       "6         Antarctica          748950.0    2214471.0          4992026.0"
      ]
     },
     "execution_count": 193,
     "metadata": {},
     "output_type": "execute_result"
    }
   ],
   "source": [
    "pd.read_sql_query(\"\"\"\n",
    "                    select \"Audience Continent\" ,\n",
    "                    sum(\"Likes\" + \"Comments\" + \"Shares\") as \"Total Engagement\" ,\n",
    "                    sum(\"Reach\") as \"Total Reach\",\n",
    "                    sum(\"Impressions\") as \"Total Impressions\"\n",
    "                  from social\n",
    "                  group by 1\n",
    "                  order by 4 desc\n",
    "                  \"\"\",engine)"
   ]
  },
  {
   "cell_type": "markdown",
   "id": "e737a11c-ecc7-4230-8f17-7af092cddbba",
   "metadata": {},
   "source": [
    "##### We can conclude that Africa is the top-performing continent in terms of audience engagement, reach, and impression count. This suggests that the content resonates strongly with the audience in Africa, leading to significant levels of interaction, broad reach, and high visibility."
   ]
  },
  {
   "cell_type": "markdown",
   "id": "0ef61f98-1d3c-4409-b751-6bc1400d4c8d",
   "metadata": {},
   "source": [
    "&nbsp;\n",
    "&nbsp;"
   ]
  },
  {
   "cell_type": "markdown",
   "id": "1ca814fa-2b20-46fc-9d7a-87c129d299b1",
   "metadata": {},
   "source": [
    "### Quick Recap\n",
    "- people ofter engaged with post by 'likes'.\n",
    "- Impressions, Reach and Engagement increasing each year .\n",
    "- LinkedIn's effectiveness in content distribution and Twitter's dominance in reaching a large number of unique users.\n",
    "- Video content outperforms both image and link content in terms of impressions, reach, and engagement\n",
    "- The senior adult demographic constitutes the largest portion of viewers.\n",
    "- Impressions peak during the Night time period across all platforms.\n",
    "- Dip in social media activity during the year-end transition, possibly influenced by holidays, marketing changes, or shifts in user           behavior.\n",
    "- Females receive the most posts and make up the majority of new users, while males engage the most with posts.\n",
    "- The majority of social media posts are categorized as having a mixed sentiment.\n",
    "- Korea leads in Impressions, reach, and engagement at the country level, while Africa dominates at the continent level.\n",
    "- Friday has the highest total impressions and reach"
   ]
  }
 ],
 "metadata": {
  "kernelspec": {
   "display_name": "Python 3 (ipykernel)",
   "language": "python",
   "name": "python3"
  },
  "language_info": {
   "codemirror_mode": {
    "name": "ipython",
    "version": 3
   },
   "file_extension": ".py",
   "mimetype": "text/x-python",
   "name": "python",
   "nbconvert_exporter": "python",
   "pygments_lexer": "ipython3",
   "version": "3.12.2"
  }
 },
 "nbformat": 4,
 "nbformat_minor": 5
}
